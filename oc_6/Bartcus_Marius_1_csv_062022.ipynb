{
 "cells": [
  {
   "cell_type": "code",
   "execution_count": 132,
   "id": "7d370bd9-a66f-4010-9780-cc05f4416143",
   "metadata": {},
   "outputs": [],
   "source": [
    "# ML modules\n",
    "import pandas as pd\n",
    "import numpy as np\n",
    "import seaborn as sns\n",
    "\n",
    "#GraphQl\n",
    "from gql import gql, Client\n",
    "from gql.dsl import DSLQuery, DSLSchema, dsl_gql\n",
    "from gql.transport.requests import RequestsHTTPTransport\n",
    "\n",
    "#API Key\n",
    "from dotenv import load_dotenv\n",
    "import os\n",
    "\n",
    "# Set up logging\n",
    "import logging\n",
    "\n",
    "logging.basicConfig(level=logging.INFO)\n",
    "logger = logging.getLogger(__name__)"
   ]
  },
  {
   "cell_type": "code",
   "execution_count": 15,
   "id": "c1595e3d-02de-433a-b17c-60d021e65f10",
   "metadata": {},
   "outputs": [],
   "source": [
    "load_dotenv()\n",
    "# Add your key and endpoint\n",
    "key = os.getenv('API_KEY')\n",
    "\n",
    "client_id = os.getenv('CLIENT_ID')\n",
    "\n",
    "url_yelp = 'https://api.yelp.com/v3/graphql'"
   ]
  },
  {
   "cell_type": "markdown",
   "id": "f0be8889-2a32-4e03-a9f9-2c0022fbfc79",
   "metadata": {},
   "source": [
    "# YELP API Request"
   ]
  },
  {
   "cell_type": "code",
   "execution_count": 122,
   "id": "0b3ea13a-d9e0-4788-9938-964fc8fc3e9c",
   "metadata": {},
   "outputs": [],
   "source": [
    "header = {\n",
    "    'Authorization': 'bearer {}'.format(key),\n",
    "    'Content-Type':\"application/json\"\n",
    "}\n",
    "\n",
    "transport = RequestsHTTPTransport(url = url_yelp, #Yelp.config('url'),\n",
    "                                  headers = header,\n",
    "                                  use_json = True)\n",
    "\n",
    "client = Client(transport = transport, fetch_schema_from_transport = True)\n",
    "\n",
    "cities = ['Paris', 'Lyon']\n",
    "\n",
    "#'Paris', 'Bordeaux', \n",
    "#           'Lyon', 'Vannes',\n",
    "#           'Marseille', 'Nice',\n",
    "#           'Lille', 'Grenoble',\n",
    "#           'Cannes', 'Limoges',\n",
    "#           'Versailles', 'Nice',\n",
    "#           'Nantes']"
   ]
  },
  {
   "cell_type": "code",
   "execution_count": 130,
   "id": "b7d4f8d4-6df1-43c1-b401-e18d45ffc46d",
   "metadata": {},
   "outputs": [],
   "source": [
    "results = []\n",
    "#query RequestForEachCity($city: String!) {\n",
    "\n",
    "for city in cities :\n",
    "    query = gql('''{\n",
    "                search(term : \"restaurant\", location : \"$city\", limit : 50) {\n",
    "                    business{\n",
    "                        name\n",
    "                        id\n",
    "                        reviews {\n",
    "                            id\n",
    "                            text\n",
    "                            rating\n",
    "                        }\n",
    "                    }\n",
    "               }\n",
    "            }''')\n",
    "    \n",
    "    #params = {'city': city}\n",
    "    results.append(client.execute(query))#, variable_values=params))"
   ]
  },
  {
   "cell_type": "code",
   "execution_count": 124,
   "id": "1e691666-91b2-4edf-b2de-5271d5945c47",
   "metadata": {},
   "outputs": [],
   "source": [
    "dict_reviews = []\n",
    "\n",
    "for res in results:\n",
    "    for val in res['search']['business']:\n",
    "        for reviews in val['reviews']:\n",
    "            dict_reviews.append({\n",
    "                'review_id' : reviews['id'],\n",
    "                'text' : reviews['text'],\n",
    "                'stars' : reviews['rating']\n",
    "            })"
   ]
  },
  {
   "cell_type": "code",
   "execution_count": 125,
   "id": "8f601150-9a27-475b-b284-7eeeac934c0c",
   "metadata": {},
   "outputs": [],
   "source": [
    "df_yelp = pd.DataFrame.from_dict(dict_reviews)\n",
    "#df_yelp = df_yelp.dropna()"
   ]
  },
  {
   "cell_type": "code",
   "execution_count": 131,
   "id": "01a580cb-3f95-4b7f-9613-dd4958f08fb7",
   "metadata": {},
   "outputs": [
    {
     "data": {
      "text/html": [
       "<div>\n",
       "<style scoped>\n",
       "    .dataframe tbody tr th:only-of-type {\n",
       "        vertical-align: middle;\n",
       "    }\n",
       "\n",
       "    .dataframe tbody tr th {\n",
       "        vertical-align: top;\n",
       "    }\n",
       "\n",
       "    .dataframe thead th {\n",
       "        text-align: right;\n",
       "    }\n",
       "</style>\n",
       "<table border=\"1\" class=\"dataframe\">\n",
       "  <thead>\n",
       "    <tr style=\"text-align: right;\">\n",
       "      <th></th>\n",
       "      <th>review_id</th>\n",
       "      <th>text</th>\n",
       "      <th>stars</th>\n",
       "    </tr>\n",
       "  </thead>\n",
       "  <tbody>\n",
       "    <tr>\n",
       "      <th>0</th>\n",
       "      <td>sMG5b4TBAsIBi5wb4-OsEA</td>\n",
       "      <td>Simply fantastic! The lengthy wait was well wo...</td>\n",
       "      <td>5</td>\n",
       "    </tr>\n",
       "    <tr>\n",
       "      <th>1</th>\n",
       "      <td>_q8gqR-4DGKQTHUmlL0jug</td>\n",
       "      <td>For the ambiance and the service I give this p...</td>\n",
       "      <td>3</td>\n",
       "    </tr>\n",
       "    <tr>\n",
       "      <th>2</th>\n",
       "      <td>_tPpqYH3mH-3OvWWdlp4Wg</td>\n",
       "      <td>Who doesn't love pasta?\\n\\nThe queue here gets...</td>\n",
       "      <td>5</td>\n",
       "    </tr>\n",
       "    <tr>\n",
       "      <th>3</th>\n",
       "      <td>93nmdQDiWOFhGK_K6AzXzw</td>\n",
       "      <td>The drinks are just phenomenal. Food was delic...</td>\n",
       "      <td>5</td>\n",
       "    </tr>\n",
       "    <tr>\n",
       "      <th>4</th>\n",
       "      <td>D5QCC3tC4nelJvfPQNANhQ</td>\n",
       "      <td>Good experience, theatrical drinks that were a...</td>\n",
       "      <td>4</td>\n",
       "    </tr>\n",
       "    <tr>\n",
       "      <th>...</th>\n",
       "      <td>...</td>\n",
       "      <td>...</td>\n",
       "      <td>...</td>\n",
       "    </tr>\n",
       "    <tr>\n",
       "      <th>280</th>\n",
       "      <td>pKUW3lCVt2pi1mB4yrx3Lw</td>\n",
       "      <td>This is my go choo Korean restaurant in Stockh...</td>\n",
       "      <td>5</td>\n",
       "    </tr>\n",
       "    <tr>\n",
       "      <th>281</th>\n",
       "      <td>JkCCJCvHG6uMtdErda3flg</td>\n",
       "      <td>Great little cozy place! Good portions and rea...</td>\n",
       "      <td>5</td>\n",
       "    </tr>\n",
       "    <tr>\n",
       "      <th>282</th>\n",
       "      <td>73ghH96uT4HuquT8Y7N6Jg</td>\n",
       "      <td>Wow. Great food and big portions to a very low...</td>\n",
       "      <td>4</td>\n",
       "    </tr>\n",
       "    <tr>\n",
       "      <th>283</th>\n",
       "      <td>5YPWGQdldotWF9C2G0hqKw</td>\n",
       "      <td>Amazing food at an affordable price. The small...</td>\n",
       "      <td>5</td>\n",
       "    </tr>\n",
       "    <tr>\n",
       "      <th>284</th>\n",
       "      <td>jNr6cRR3Xmi81lea6NkL8A</td>\n",
       "      <td>I went for lunch, ordered a wrap and was hande...</td>\n",
       "      <td>4</td>\n",
       "    </tr>\n",
       "  </tbody>\n",
       "</table>\n",
       "<p>285 rows × 3 columns</p>\n",
       "</div>"
      ],
      "text/plain": [
       "                  review_id  \\\n",
       "0    sMG5b4TBAsIBi5wb4-OsEA   \n",
       "1    _q8gqR-4DGKQTHUmlL0jug   \n",
       "2    _tPpqYH3mH-3OvWWdlp4Wg   \n",
       "3    93nmdQDiWOFhGK_K6AzXzw   \n",
       "4    D5QCC3tC4nelJvfPQNANhQ   \n",
       "..                      ...   \n",
       "280  pKUW3lCVt2pi1mB4yrx3Lw   \n",
       "281  JkCCJCvHG6uMtdErda3flg   \n",
       "282  73ghH96uT4HuquT8Y7N6Jg   \n",
       "283  5YPWGQdldotWF9C2G0hqKw   \n",
       "284  jNr6cRR3Xmi81lea6NkL8A   \n",
       "\n",
       "                                                  text  stars  \n",
       "0    Simply fantastic! The lengthy wait was well wo...      5  \n",
       "1    For the ambiance and the service I give this p...      3  \n",
       "2    Who doesn't love pasta?\\n\\nThe queue here gets...      5  \n",
       "3    The drinks are just phenomenal. Food was delic...      5  \n",
       "4    Good experience, theatrical drinks that were a...      4  \n",
       "..                                                 ...    ...  \n",
       "280  This is my go choo Korean restaurant in Stockh...      5  \n",
       "281  Great little cozy place! Good portions and rea...      5  \n",
       "282  Wow. Great food and big portions to a very low...      4  \n",
       "283  Amazing food at an affordable price. The small...      5  \n",
       "284  I went for lunch, ordered a wrap and was hande...      4  \n",
       "\n",
       "[285 rows x 3 columns]"
      ]
     },
     "execution_count": 131,
     "metadata": {},
     "output_type": "execute_result"
    }
   ],
   "source": [
    "df_yelp"
   ]
  },
  {
   "cell_type": "code",
   "execution_count": 133,
   "id": "082e1e10-a1ab-4aa1-b131-7a34b99c35f9",
   "metadata": {},
   "outputs": [
    {
     "name": "stderr",
     "output_type": "stream",
     "text": [
      "INFO:__main__:>>> Saving reviews to pickle file that was charged from API...\n"
     ]
    }
   ],
   "source": [
    "if ~os.path.exists(\"data/processed/reviews_from_api.pkl.gz\"):\n",
    "    df_yelp.to_pickle(\"data/processed/reviews_from_api.pkl.gz\")\n",
    "    logger.info(\">>> Saving reviews to pickle file that was charged from API...\")"
   ]
  },
  {
   "cell_type": "code",
   "execution_count": null,
   "id": "511684cc-b853-4dfd-83d8-7ab8159b08ea",
   "metadata": {},
   "outputs": [],
   "source": []
  }
 ],
 "metadata": {
  "kernelspec": {
   "display_name": "Python 3 (ipykernel)",
   "language": "python",
   "name": "python3"
  },
  "language_info": {
   "codemirror_mode": {
    "name": "ipython",
    "version": 3
   },
   "file_extension": ".py",
   "mimetype": "text/x-python",
   "name": "python",
   "nbconvert_exporter": "python",
   "pygments_lexer": "ipython3",
   "version": "3.9.12"
  }
 },
 "nbformat": 4,
 "nbformat_minor": 5
}
