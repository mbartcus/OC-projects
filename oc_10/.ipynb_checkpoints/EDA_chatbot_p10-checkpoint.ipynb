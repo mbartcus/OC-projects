{
 "cells": [
  {
   "cell_type": "markdown",
   "id": "aefe201e-ef86-4e92-b2b5-82c9bbb3baf4",
   "metadata": {},
   "source": [
    "- construire un chatbot pour que les collaborateurs internes puissent facilement réserver un billet d’avion pour leurs prochaines vacances.\n",
    "- La V1 devra pouvoir identifier dans la demande de l’utilisateur les cinq éléments suivants :\n",
    "    - Ville de départ\n",
    "    - Ville de destination\n",
    "    - Date aller souhaitée du vol\n",
    "    - Date retour souhaitée du vol\n",
    "    - Budget maximum pour le prix total des billets\n",
    "    \n",
    "Les données:\n",
    "- historiques d’échange entre un chatbot et un utilisateur."
   ]
  },
  {
   "cell_type": "code",
   "execution_count": 3,
   "id": "afb861e0-5c5e-48dd-960c-3fd98ef077ba",
   "metadata": {},
   "outputs": [],
   "source": [
    "FRAMES_DATA = 'data/frames/frames.json'"
   ]
  },
  {
   "cell_type": "markdown",
   "id": "6d074312-ed57-41f1-a053-2db60b456387",
   "metadata": {},
   "source": [
    "# Library importation"
   ]
  },
  {
   "cell_type": "code",
   "execution_count": 4,
   "id": "250519ce-11c5-444d-9166-8d79e4c8d689",
   "metadata": {},
   "outputs": [],
   "source": [
    "import pandas as pd"
   ]
  },
  {
   "cell_type": "markdown",
   "id": "7d983723-2583-4d09-9f62-fff24af76b78",
   "metadata": {},
   "source": [
    "# Loading Dataset"
   ]
  },
  {
   "cell_type": "code",
   "execution_count": 9,
   "id": "2cde32dc-9e34-43f9-b76f-25045bed7a14",
   "metadata": {},
   "outputs": [
    {
     "data": {
      "text/html": [
       "<div>\n",
       "<style scoped>\n",
       "    .dataframe tbody tr th:only-of-type {\n",
       "        vertical-align: middle;\n",
       "    }\n",
       "\n",
       "    .dataframe tbody tr th {\n",
       "        vertical-align: top;\n",
       "    }\n",
       "\n",
       "    .dataframe thead th {\n",
       "        text-align: right;\n",
       "    }\n",
       "</style>\n",
       "<table border=\"1\" class=\"dataframe\">\n",
       "  <thead>\n",
       "    <tr style=\"text-align: right;\">\n",
       "      <th></th>\n",
       "      <th>user_id</th>\n",
       "      <th>turns</th>\n",
       "      <th>wizard_id</th>\n",
       "      <th>id</th>\n",
       "      <th>labels</th>\n",
       "    </tr>\n",
       "  </thead>\n",
       "  <tbody>\n",
       "    <tr>\n",
       "      <th>0</th>\n",
       "      <td>U22HTHYNP</td>\n",
       "      <td>[{'text': 'I'd like to book a trip to Atlantis...</td>\n",
       "      <td>U21DKG18C</td>\n",
       "      <td>e2c0fc6c-2134-4891-8353-ef16d8412c9a</td>\n",
       "      <td>{'userSurveyRating': 4.0, 'wizardSurveyTaskSuc...</td>\n",
       "    </tr>\n",
       "    <tr>\n",
       "      <th>1</th>\n",
       "      <td>U21E41CQP</td>\n",
       "      <td>[{'text': 'Hello, I am looking to book a vacat...</td>\n",
       "      <td>U21DMV0KA</td>\n",
       "      <td>4a3bfa39-2c22-42c8-8694-32b4e34415e9</td>\n",
       "      <td>{'userSurveyRating': 3.0, 'wizardSurveyTaskSuc...</td>\n",
       "    </tr>\n",
       "    <tr>\n",
       "      <th>2</th>\n",
       "      <td>U21RP4FCY</td>\n",
       "      <td>[{'text': 'Hello there i am looking to go on a...</td>\n",
       "      <td>U21E0179B</td>\n",
       "      <td>6e67ed28-e94c-4fab-96b6-68569a92682f</td>\n",
       "      <td>{'userSurveyRating': 2.0, 'wizardSurveyTaskSuc...</td>\n",
       "    </tr>\n",
       "    <tr>\n",
       "      <th>3</th>\n",
       "      <td>U22HTHYNP</td>\n",
       "      <td>[{'text': 'Hi I'd like to go to Caprica from B...</td>\n",
       "      <td>U21DKG18C</td>\n",
       "      <td>5ae76e50-5b48-4166-9f6d-67aaabd7bcaa</td>\n",
       "      <td>{'userSurveyRating': 5.0, 'wizardSurveyTaskSuc...</td>\n",
       "    </tr>\n",
       "    <tr>\n",
       "      <th>4</th>\n",
       "      <td>U21E41CQP</td>\n",
       "      <td>[{'text': 'Hello, I am looking to book a trip ...</td>\n",
       "      <td>U21DMV0KA</td>\n",
       "      <td>24603086-bb53-431e-a0d8-1dcc63518ba9</td>\n",
       "      <td>{'userSurveyRating': 5.0, 'wizardSurveyTaskSuc...</td>\n",
       "    </tr>\n",
       "  </tbody>\n",
       "</table>\n",
       "</div>"
      ],
      "text/plain": [
       "     user_id                                              turns  wizard_id  \\\n",
       "0  U22HTHYNP  [{'text': 'I'd like to book a trip to Atlantis...  U21DKG18C   \n",
       "1  U21E41CQP  [{'text': 'Hello, I am looking to book a vacat...  U21DMV0KA   \n",
       "2  U21RP4FCY  [{'text': 'Hello there i am looking to go on a...  U21E0179B   \n",
       "3  U22HTHYNP  [{'text': 'Hi I'd like to go to Caprica from B...  U21DKG18C   \n",
       "4  U21E41CQP  [{'text': 'Hello, I am looking to book a trip ...  U21DMV0KA   \n",
       "\n",
       "                                     id  \\\n",
       "0  e2c0fc6c-2134-4891-8353-ef16d8412c9a   \n",
       "1  4a3bfa39-2c22-42c8-8694-32b4e34415e9   \n",
       "2  6e67ed28-e94c-4fab-96b6-68569a92682f   \n",
       "3  5ae76e50-5b48-4166-9f6d-67aaabd7bcaa   \n",
       "4  24603086-bb53-431e-a0d8-1dcc63518ba9   \n",
       "\n",
       "                                              labels  \n",
       "0  {'userSurveyRating': 4.0, 'wizardSurveyTaskSuc...  \n",
       "1  {'userSurveyRating': 3.0, 'wizardSurveyTaskSuc...  \n",
       "2  {'userSurveyRating': 2.0, 'wizardSurveyTaskSuc...  \n",
       "3  {'userSurveyRating': 5.0, 'wizardSurveyTaskSuc...  \n",
       "4  {'userSurveyRating': 5.0, 'wizardSurveyTaskSuc...  "
      ]
     },
     "execution_count": 9,
     "metadata": {},
     "output_type": "execute_result"
    }
   ],
   "source": [
    "## Load the dataset in a Pandas Dataframe (in memory)\n",
    "data = pd.read_json(FRAMES_DATA)\n",
    "data.head()"
   ]
  },
  {
   "cell_type": "code",
   "execution_count": 11,
   "id": "b8d8380a-aa7e-4ba6-96d0-bf73e058a90f",
   "metadata": {},
   "outputs": [
    {
     "data": {
      "text/plain": [
       "(1369, 5)"
      ]
     },
     "execution_count": 11,
     "metadata": {},
     "output_type": "execute_result"
    }
   ],
   "source": [
    "data.shape"
   ]
  },
  {
   "cell_type": "code",
   "execution_count": 10,
   "id": "c7278a8e-5d0b-4481-ba6c-2412b544ead8",
   "metadata": {},
   "outputs": [
    {
     "data": {
      "text/html": [
       "<div>\n",
       "<style scoped>\n",
       "    .dataframe tbody tr th:only-of-type {\n",
       "        vertical-align: middle;\n",
       "    }\n",
       "\n",
       "    .dataframe tbody tr th {\n",
       "        vertical-align: top;\n",
       "    }\n",
       "\n",
       "    .dataframe thead th {\n",
       "        text-align: right;\n",
       "    }\n",
       "</style>\n",
       "<table border=\"1\" class=\"dataframe\">\n",
       "  <thead>\n",
       "    <tr style=\"text-align: right;\">\n",
       "      <th></th>\n",
       "      <th>user_id</th>\n",
       "      <th>turns</th>\n",
       "      <th>wizard_id</th>\n",
       "      <th>id</th>\n",
       "      <th>labels</th>\n",
       "    </tr>\n",
       "  </thead>\n",
       "  <tbody>\n",
       "    <tr>\n",
       "      <th>count</th>\n",
       "      <td>1369</td>\n",
       "      <td>1369</td>\n",
       "      <td>1369</td>\n",
       "      <td>1369</td>\n",
       "      <td>1369</td>\n",
       "    </tr>\n",
       "    <tr>\n",
       "      <th>unique</th>\n",
       "      <td>11</td>\n",
       "      <td>1369</td>\n",
       "      <td>12</td>\n",
       "      <td>1369</td>\n",
       "      <td>16</td>\n",
       "    </tr>\n",
       "    <tr>\n",
       "      <th>top</th>\n",
       "      <td>U22K1SX9N</td>\n",
       "      <td>[{'text': 'I'd like to book a trip to Atlantis...</td>\n",
       "      <td>U21T9NMKM</td>\n",
       "      <td>e2c0fc6c-2134-4891-8353-ef16d8412c9a</td>\n",
       "      <td>{'userSurveyRating': 5.0, 'wizardSurveyTaskSuc...</td>\n",
       "    </tr>\n",
       "    <tr>\n",
       "      <th>freq</th>\n",
       "      <td>345</td>\n",
       "      <td>1</td>\n",
       "      <td>301</td>\n",
       "      <td>1</td>\n",
       "      <td>929</td>\n",
       "    </tr>\n",
       "  </tbody>\n",
       "</table>\n",
       "</div>"
      ],
      "text/plain": [
       "          user_id                                              turns  \\\n",
       "count        1369                                               1369   \n",
       "unique         11                                               1369   \n",
       "top     U22K1SX9N  [{'text': 'I'd like to book a trip to Atlantis...   \n",
       "freq          345                                                  1   \n",
       "\n",
       "        wizard_id                                    id  \\\n",
       "count        1369                                  1369   \n",
       "unique         12                                  1369   \n",
       "top     U21T9NMKM  e2c0fc6c-2134-4891-8353-ef16d8412c9a   \n",
       "freq          301                                     1   \n",
       "\n",
       "                                                   labels  \n",
       "count                                                1369  \n",
       "unique                                                 16  \n",
       "top     {'userSurveyRating': 5.0, 'wizardSurveyTaskSuc...  \n",
       "freq                                                  929  "
      ]
     },
     "execution_count": 10,
     "metadata": {},
     "output_type": "execute_result"
    }
   ],
   "source": [
    "data.describe(include=\"all\")"
   ]
  },
  {
   "cell_type": "markdown",
   "id": "bbd146d5-7f28-4b3e-aa96-ec0163662ee7",
   "metadata": {},
   "source": [
    "- L'ensemble de données est composé de ***1369 dialogues annotés***.\n",
    "- Ils sont composés de plusieurs tours.\n",
    "- Le dialoge est entre un robot et un utilisateur essayant de réserver un vol."
   ]
  },
  {
   "cell_type": "markdown",
   "id": "9936375d-56d8-46e2-aa57-3d03ff22b153",
   "metadata": {},
   "source": [
    "## user_id\n",
    "There are 11 unique identifier for the user taking part in the dialogue."
   ]
  },
  {
   "cell_type": "code",
   "execution_count": 39,
   "id": "f872f02e-84f5-4eae-9978-7a1732a10f44",
   "metadata": {},
   "outputs": [
    {
     "data": {
      "text/plain": [
       "['U22HTHYNP',\n",
       " 'U21E41CQP',\n",
       " 'U21RP4FCY',\n",
       " 'U231PNNA3',\n",
       " 'U2709166N',\n",
       " 'U22K1SX9N',\n",
       " 'U24V2QUKC',\n",
       " 'U23KR88NT',\n",
       " 'U23KPC9QV',\n",
       " 'U260BGVS6',\n",
       " 'U2AMZ8TLK']"
      ]
     },
     "execution_count": 39,
     "metadata": {},
     "output_type": "execute_result"
    }
   ],
   "source": [
    "list(data.user_id.unique())"
   ]
  },
  {
   "cell_type": "markdown",
   "id": "5693ffcc-b2df-4fb7-aed8-b39e22fe30da",
   "metadata": {},
   "source": [
    "## wizard_id\n",
    "There are 12 unique identifier for the wizard taking part in the dialogue."
   ]
  },
  {
   "cell_type": "code",
   "execution_count": 40,
   "id": "4dda4c62-e7cb-4abb-8498-4acff3de0aab",
   "metadata": {},
   "outputs": [
    {
     "data": {
      "text/plain": [
       "['U21DKG18C',\n",
       " 'U21DMV0KA',\n",
       " 'U21E0179B',\n",
       " 'U21E41CQP',\n",
       " 'U22HTHYNP',\n",
       " 'U1Z7FQTHC',\n",
       " 'U21T9NMKM',\n",
       " 'U23KR88NT',\n",
       " 'U23KS7P33',\n",
       " 'U23KPC9QV',\n",
       " 'U260BGVS6',\n",
       " 'U28KSAJBY']"
      ]
     },
     "execution_count": 40,
     "metadata": {},
     "output_type": "execute_result"
    }
   ],
   "source": [
    "list(data.wizard_id.unique())"
   ]
  },
  {
   "cell_type": "markdown",
   "id": "28d8ac18-e228-488c-8037-39a225514d71",
   "metadata": {},
   "source": [
    "## labels\n",
    "- ***userSurveyRating***: A value that represents the user’s satisfaction with the Wizard’s service, ranging from 1 – complete dissatisfaction to 5 – complete satisfaction."
   ]
  },
  {
   "cell_type": "code",
   "execution_count": 13,
   "id": "fd27f76e-8871-4dba-a174-7a11166ac38d",
   "metadata": {},
   "outputs": [
    {
     "data": {
      "text/plain": [
       "{'userSurveyRating': 4.0, 'wizardSurveyTaskSuccessful': True}"
      ]
     },
     "execution_count": 13,
     "metadata": {},
     "output_type": "execute_result"
    }
   ],
   "source": [
    "data.labels[0]"
   ]
  },
  {
   "cell_type": "code",
   "execution_count": 15,
   "id": "266c0352-25b2-4513-b5f8-7bebfdf69a34",
   "metadata": {},
   "outputs": [],
   "source": [
    "labels = pd.json_normalize(data.labels)"
   ]
  },
  {
   "cell_type": "code",
   "execution_count": 21,
   "id": "46055227-295a-4f3f-b557-5185c6ddb619",
   "metadata": {},
   "outputs": [
    {
     "data": {
      "text/plain": [
       "['userSurveyRating', 'wizardSurveyTaskSuccessful']"
      ]
     },
     "execution_count": 21,
     "metadata": {},
     "output_type": "execute_result"
    }
   ],
   "source": [
    "list(labels.columns)"
   ]
  },
  {
   "cell_type": "code",
   "execution_count": 22,
   "id": "b91f6cdc-d1f5-484c-bfdd-4cc292040a51",
   "metadata": {},
   "outputs": [
    {
     "data": {
      "text/plain": [
       "count    1366.000000\n",
       "mean        4.573419\n",
       "std         0.839596\n",
       "min         1.000000\n",
       "25%         4.000000\n",
       "50%         5.000000\n",
       "75%         5.000000\n",
       "max         5.000000\n",
       "Name: userSurveyRating, dtype: float64"
      ]
     },
     "execution_count": 22,
     "metadata": {},
     "output_type": "execute_result"
    }
   ],
   "source": [
    "labels.userSurveyRating.describe()"
   ]
  },
  {
   "cell_type": "markdown",
   "id": "ae5202a2-4f68-4ca0-ad09-dfcc42623567",
   "metadata": {},
   "source": [
    "En moyenne l'utilisateur a bien noté le chatbot."
   ]
  },
  {
   "cell_type": "code",
   "execution_count": 25,
   "id": "06aefa35-425f-4297-8713-4e52c16a1dfd",
   "metadata": {},
   "outputs": [
    {
     "data": {
      "text/plain": [
       "True     1287\n",
       "False      82\n",
       "Name: wizardSurveyTaskSuccessful, dtype: int64"
      ]
     },
     "execution_count": 25,
     "metadata": {},
     "output_type": "execute_result"
    }
   ],
   "source": [
    "labels.wizardSurveyTaskSuccessful.value_counts()"
   ]
  },
  {
   "cell_type": "markdown",
   "id": "c518600b-3eb6-4b4f-a504-8e1722898cf2",
   "metadata": {},
   "source": [
    "82 comunication avec le chatbot n'a pas aider l'utilisateur."
   ]
  },
  {
   "cell_type": "code",
   "execution_count": null,
   "id": "6723825c-c342-490c-854c-2770448631a7",
   "metadata": {},
   "outputs": [],
   "source": []
  }
 ],
 "metadata": {
  "kernelspec": {
   "display_name": "Python 3 (ipykernel)",
   "language": "python",
   "name": "python3"
  },
  "language_info": {
   "codemirror_mode": {
    "name": "ipython",
    "version": 3
   },
   "file_extension": ".py",
   "mimetype": "text/x-python",
   "name": "python",
   "nbconvert_exporter": "python",
   "pygments_lexer": "ipython3",
   "version": "3.9.16"
  }
 },
 "nbformat": 4,
 "nbformat_minor": 5
}
