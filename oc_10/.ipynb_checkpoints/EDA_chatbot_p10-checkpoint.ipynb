{
 "cells": [
  {
   "cell_type": "markdown",
   "id": "aefe201e-ef86-4e92-b2b5-82c9bbb3baf4",
   "metadata": {},
   "source": [
    "- construire un chatbot pour que les collaborateurs internes puissent facilement réserver un billet d’avion pour leurs prochaines vacances.\n",
    "- La V1 devra pouvoir identifier dans la demande de l’utilisateur les cinq éléments suivants :\n",
    "    - Ville de départ\n",
    "    - Ville de destination\n",
    "    - Date aller souhaitée du vol\n",
    "    - Date retour souhaitée du vol\n",
    "    - Budget maximum pour le prix total des billets\n",
    "    \n",
    "Les données:\n",
    "- historiques d’échange entre un chatbot et un utilisateur."
   ]
  },
  {
   "cell_type": "code",
   "execution_count": 1,
   "id": "afb861e0-5c5e-48dd-960c-3fd98ef077ba",
   "metadata": {},
   "outputs": [],
   "source": [
    "FRAMES_DATA = 'data/frames/frames.json'"
   ]
  },
  {
   "cell_type": "markdown",
   "id": "6d074312-ed57-41f1-a053-2db60b456387",
   "metadata": {},
   "source": [
    "# Library importation"
   ]
  },
  {
   "cell_type": "code",
   "execution_count": 2,
   "id": "250519ce-11c5-444d-9166-8d79e4c8d689",
   "metadata": {},
   "outputs": [],
   "source": [
    "import pandas as pd\n",
    "import matplotlib.pyplot as plt\n",
    "import utils as utl"
   ]
  },
  {
   "cell_type": "code",
   "execution_count": 3,
   "id": "07052068-3c9f-4712-a1bb-f01167805c3c",
   "metadata": {},
   "outputs": [],
   "source": [
    "from azure.cognitiveservices.language.luis.authoring import LUISAuthoringClient\n",
    "from azure.cognitiveservices.language.luis.authoring.models import ApplicationCreateObject\n",
    "from azure.cognitiveservices.language.luis.runtime import LUISRuntimeClient\n",
    "from msrest.authentication import CognitiveServicesCredentials\n",
    "from functools import reduce\n",
    "\n",
    "import json, time, uuid"
   ]
  },
  {
   "cell_type": "markdown",
   "id": "7d983723-2583-4d09-9f62-fff24af76b78",
   "metadata": {},
   "source": [
    "# Loading Dataset"
   ]
  },
  {
   "cell_type": "code",
   "execution_count": 4,
   "id": "2cde32dc-9e34-43f9-b76f-25045bed7a14",
   "metadata": {},
   "outputs": [],
   "source": [
    "## Load the dataset in a Pandas Dataframe (in memory)\n",
    "data = pd.read_json(FRAMES_DATA)"
   ]
  },
  {
   "cell_type": "markdown",
   "id": "35e46039-c044-4a16-869a-d60c87a223aa",
   "metadata": {},
   "source": [
    "## Describing data "
   ]
  },
  {
   "cell_type": "code",
   "execution_count": 5,
   "id": "341581db-e1cf-45cd-ad13-fd6d54a972e9",
   "metadata": {},
   "outputs": [
    {
     "data": {
      "text/html": [
       "<div>\n",
       "<style scoped>\n",
       "    .dataframe tbody tr th:only-of-type {\n",
       "        vertical-align: middle;\n",
       "    }\n",
       "\n",
       "    .dataframe tbody tr th {\n",
       "        vertical-align: top;\n",
       "    }\n",
       "\n",
       "    .dataframe thead th {\n",
       "        text-align: right;\n",
       "    }\n",
       "</style>\n",
       "<table border=\"1\" class=\"dataframe\">\n",
       "  <thead>\n",
       "    <tr style=\"text-align: right;\">\n",
       "      <th></th>\n",
       "      <th>user_id</th>\n",
       "      <th>turns</th>\n",
       "      <th>wizard_id</th>\n",
       "      <th>id</th>\n",
       "      <th>labels</th>\n",
       "    </tr>\n",
       "  </thead>\n",
       "  <tbody>\n",
       "    <tr>\n",
       "      <th>0</th>\n",
       "      <td>U22HTHYNP</td>\n",
       "      <td>[{'text': 'I'd like to book a trip to Atlantis...</td>\n",
       "      <td>U21DKG18C</td>\n",
       "      <td>e2c0fc6c-2134-4891-8353-ef16d8412c9a</td>\n",
       "      <td>{'userSurveyRating': 4.0, 'wizardSurveyTaskSuc...</td>\n",
       "    </tr>\n",
       "    <tr>\n",
       "      <th>1</th>\n",
       "      <td>U21E41CQP</td>\n",
       "      <td>[{'text': 'Hello, I am looking to book a vacat...</td>\n",
       "      <td>U21DMV0KA</td>\n",
       "      <td>4a3bfa39-2c22-42c8-8694-32b4e34415e9</td>\n",
       "      <td>{'userSurveyRating': 3.0, 'wizardSurveyTaskSuc...</td>\n",
       "    </tr>\n",
       "    <tr>\n",
       "      <th>2</th>\n",
       "      <td>U21RP4FCY</td>\n",
       "      <td>[{'text': 'Hello there i am looking to go on a...</td>\n",
       "      <td>U21E0179B</td>\n",
       "      <td>6e67ed28-e94c-4fab-96b6-68569a92682f</td>\n",
       "      <td>{'userSurveyRating': 2.0, 'wizardSurveyTaskSuc...</td>\n",
       "    </tr>\n",
       "    <tr>\n",
       "      <th>3</th>\n",
       "      <td>U22HTHYNP</td>\n",
       "      <td>[{'text': 'Hi I'd like to go to Caprica from B...</td>\n",
       "      <td>U21DKG18C</td>\n",
       "      <td>5ae76e50-5b48-4166-9f6d-67aaabd7bcaa</td>\n",
       "      <td>{'userSurveyRating': 5.0, 'wizardSurveyTaskSuc...</td>\n",
       "    </tr>\n",
       "    <tr>\n",
       "      <th>4</th>\n",
       "      <td>U21E41CQP</td>\n",
       "      <td>[{'text': 'Hello, I am looking to book a trip ...</td>\n",
       "      <td>U21DMV0KA</td>\n",
       "      <td>24603086-bb53-431e-a0d8-1dcc63518ba9</td>\n",
       "      <td>{'userSurveyRating': 5.0, 'wizardSurveyTaskSuc...</td>\n",
       "    </tr>\n",
       "  </tbody>\n",
       "</table>\n",
       "</div>"
      ],
      "text/plain": [
       "     user_id                                              turns  wizard_id  \\\n",
       "0  U22HTHYNP  [{'text': 'I'd like to book a trip to Atlantis...  U21DKG18C   \n",
       "1  U21E41CQP  [{'text': 'Hello, I am looking to book a vacat...  U21DMV0KA   \n",
       "2  U21RP4FCY  [{'text': 'Hello there i am looking to go on a...  U21E0179B   \n",
       "3  U22HTHYNP  [{'text': 'Hi I'd like to go to Caprica from B...  U21DKG18C   \n",
       "4  U21E41CQP  [{'text': 'Hello, I am looking to book a trip ...  U21DMV0KA   \n",
       "\n",
       "                                     id  \\\n",
       "0  e2c0fc6c-2134-4891-8353-ef16d8412c9a   \n",
       "1  4a3bfa39-2c22-42c8-8694-32b4e34415e9   \n",
       "2  6e67ed28-e94c-4fab-96b6-68569a92682f   \n",
       "3  5ae76e50-5b48-4166-9f6d-67aaabd7bcaa   \n",
       "4  24603086-bb53-431e-a0d8-1dcc63518ba9   \n",
       "\n",
       "                                              labels  \n",
       "0  {'userSurveyRating': 4.0, 'wizardSurveyTaskSuc...  \n",
       "1  {'userSurveyRating': 3.0, 'wizardSurveyTaskSuc...  \n",
       "2  {'userSurveyRating': 2.0, 'wizardSurveyTaskSuc...  \n",
       "3  {'userSurveyRating': 5.0, 'wizardSurveyTaskSuc...  \n",
       "4  {'userSurveyRating': 5.0, 'wizardSurveyTaskSuc...  "
      ]
     },
     "execution_count": 5,
     "metadata": {},
     "output_type": "execute_result"
    }
   ],
   "source": [
    "data.head()"
   ]
  },
  {
   "cell_type": "code",
   "execution_count": 11,
   "id": "b8d8380a-aa7e-4ba6-96d0-bf73e058a90f",
   "metadata": {},
   "outputs": [
    {
     "data": {
      "text/plain": [
       "(1369, 5)"
      ]
     },
     "execution_count": 11,
     "metadata": {},
     "output_type": "execute_result"
    }
   ],
   "source": [
    "data.shape"
   ]
  },
  {
   "cell_type": "code",
   "execution_count": 13,
   "id": "c7278a8e-5d0b-4481-ba6c-2412b544ead8",
   "metadata": {},
   "outputs": [
    {
     "data": {
      "text/html": [
       "<div>\n",
       "<style scoped>\n",
       "    .dataframe tbody tr th:only-of-type {\n",
       "        vertical-align: middle;\n",
       "    }\n",
       "\n",
       "    .dataframe tbody tr th {\n",
       "        vertical-align: top;\n",
       "    }\n",
       "\n",
       "    .dataframe thead th {\n",
       "        text-align: right;\n",
       "    }\n",
       "</style>\n",
       "<table border=\"1\" class=\"dataframe\">\n",
       "  <thead>\n",
       "    <tr style=\"text-align: right;\">\n",
       "      <th></th>\n",
       "      <th>user_id</th>\n",
       "      <th>turns</th>\n",
       "      <th>wizard_id</th>\n",
       "      <th>id</th>\n",
       "      <th>labels</th>\n",
       "    </tr>\n",
       "  </thead>\n",
       "  <tbody>\n",
       "    <tr>\n",
       "      <th>count</th>\n",
       "      <td>1369</td>\n",
       "      <td>1369</td>\n",
       "      <td>1369</td>\n",
       "      <td>1369</td>\n",
       "      <td>1369</td>\n",
       "    </tr>\n",
       "    <tr>\n",
       "      <th>unique</th>\n",
       "      <td>11</td>\n",
       "      <td>1369</td>\n",
       "      <td>12</td>\n",
       "      <td>1369</td>\n",
       "      <td>16</td>\n",
       "    </tr>\n",
       "    <tr>\n",
       "      <th>top</th>\n",
       "      <td>U22K1SX9N</td>\n",
       "      <td>[{'text': 'I'd like to book a trip to Atlantis...</td>\n",
       "      <td>U21T9NMKM</td>\n",
       "      <td>e2c0fc6c-2134-4891-8353-ef16d8412c9a</td>\n",
       "      <td>{'userSurveyRating': 5.0, 'wizardSurveyTaskSuc...</td>\n",
       "    </tr>\n",
       "    <tr>\n",
       "      <th>freq</th>\n",
       "      <td>345</td>\n",
       "      <td>1</td>\n",
       "      <td>301</td>\n",
       "      <td>1</td>\n",
       "      <td>929</td>\n",
       "    </tr>\n",
       "  </tbody>\n",
       "</table>\n",
       "</div>"
      ],
      "text/plain": [
       "          user_id                                              turns  \\\n",
       "count        1369                                               1369   \n",
       "unique         11                                               1369   \n",
       "top     U22K1SX9N  [{'text': 'I'd like to book a trip to Atlantis...   \n",
       "freq          345                                                  1   \n",
       "\n",
       "        wizard_id                                    id  \\\n",
       "count        1369                                  1369   \n",
       "unique         12                                  1369   \n",
       "top     U21T9NMKM  e2c0fc6c-2134-4891-8353-ef16d8412c9a   \n",
       "freq          301                                     1   \n",
       "\n",
       "                                                   labels  \n",
       "count                                                1369  \n",
       "unique                                                 16  \n",
       "top     {'userSurveyRating': 5.0, 'wizardSurveyTaskSuc...  \n",
       "freq                                                  929  "
      ]
     },
     "execution_count": 13,
     "metadata": {},
     "output_type": "execute_result"
    }
   ],
   "source": [
    "data.describe(include=\"all\")"
   ]
  },
  {
   "cell_type": "markdown",
   "id": "bbd146d5-7f28-4b3e-aa96-ec0163662ee7",
   "metadata": {},
   "source": [
    "- L'ensemble de données est composé de ***1369 dialogues annotés***.\n",
    "- Ils sont composés de plusieurs tours.\n",
    "- Le dialoge est entre un robot et un utilisateur essayant de réserver un vol."
   ]
  },
  {
   "cell_type": "markdown",
   "id": "9936375d-56d8-46e2-aa57-3d03ff22b153",
   "metadata": {},
   "source": [
    "### user_id\n",
    "There are 11 unique identifier for the user taking part in the dialogue."
   ]
  },
  {
   "cell_type": "code",
   "execution_count": 14,
   "id": "f872f02e-84f5-4eae-9978-7a1732a10f44",
   "metadata": {},
   "outputs": [
    {
     "data": {
      "text/plain": [
       "['U22HTHYNP',\n",
       " 'U21E41CQP',\n",
       " 'U21RP4FCY',\n",
       " 'U231PNNA3',\n",
       " 'U2709166N',\n",
       " 'U22K1SX9N',\n",
       " 'U24V2QUKC',\n",
       " 'U23KR88NT',\n",
       " 'U23KPC9QV',\n",
       " 'U260BGVS6',\n",
       " 'U2AMZ8TLK']"
      ]
     },
     "execution_count": 14,
     "metadata": {},
     "output_type": "execute_result"
    }
   ],
   "source": [
    "list(data.user_id.unique())"
   ]
  },
  {
   "cell_type": "markdown",
   "id": "5693ffcc-b2df-4fb7-aed8-b39e22fe30da",
   "metadata": {},
   "source": [
    "### wizard_id\n",
    "There are 12 unique identifier for the wizard taking part in the dialogue."
   ]
  },
  {
   "cell_type": "code",
   "execution_count": 15,
   "id": "4dda4c62-e7cb-4abb-8498-4acff3de0aab",
   "metadata": {},
   "outputs": [
    {
     "data": {
      "text/plain": [
       "['U21DKG18C',\n",
       " 'U21DMV0KA',\n",
       " 'U21E0179B',\n",
       " 'U21E41CQP',\n",
       " 'U22HTHYNP',\n",
       " 'U1Z7FQTHC',\n",
       " 'U21T9NMKM',\n",
       " 'U23KR88NT',\n",
       " 'U23KS7P33',\n",
       " 'U23KPC9QV',\n",
       " 'U260BGVS6',\n",
       " 'U28KSAJBY']"
      ]
     },
     "execution_count": 15,
     "metadata": {},
     "output_type": "execute_result"
    }
   ],
   "source": [
    "list(data.wizard_id.unique())"
   ]
  },
  {
   "cell_type": "markdown",
   "id": "28d8ac18-e228-488c-8037-39a225514d71",
   "metadata": {},
   "source": [
    "### labels\n",
    "- ***userSurveyRating***: A value that represents the user’s satisfaction with the Wizard’s service, ranging from 1 – complete dissatisfaction to 5 – complete satisfaction.\n",
    "- ***wizardSurveyTaskSuccessful***: A boolean which is true if the wizard thinks at the end of the dialogue that the user’s goal was achieved."
   ]
  },
  {
   "cell_type": "code",
   "execution_count": 16,
   "id": "fd27f76e-8871-4dba-a174-7a11166ac38d",
   "metadata": {},
   "outputs": [
    {
     "data": {
      "text/plain": [
       "{'userSurveyRating': 4.0, 'wizardSurveyTaskSuccessful': True}"
      ]
     },
     "execution_count": 16,
     "metadata": {},
     "output_type": "execute_result"
    }
   ],
   "source": [
    "data.labels[0]"
   ]
  },
  {
   "cell_type": "code",
   "execution_count": 17,
   "id": "266c0352-25b2-4513-b5f8-7bebfdf69a34",
   "metadata": {},
   "outputs": [],
   "source": [
    "labels = pd.json_normalize(data.labels)"
   ]
  },
  {
   "cell_type": "code",
   "execution_count": 18,
   "id": "61f4a87b-ca53-4f17-b974-b79721e313b3",
   "metadata": {},
   "outputs": [],
   "source": [
    "labels = labels.astype(\n",
    "    {\"userSurveyRating\": \"float\", \"wizardSurveyTaskSuccessful\": \"bool\"}\n",
    ")"
   ]
  },
  {
   "cell_type": "code",
   "execution_count": 19,
   "id": "46055227-295a-4f3f-b557-5185c6ddb619",
   "metadata": {},
   "outputs": [
    {
     "data": {
      "text/plain": [
       "['userSurveyRating', 'wizardSurveyTaskSuccessful']"
      ]
     },
     "execution_count": 19,
     "metadata": {},
     "output_type": "execute_result"
    }
   ],
   "source": [
    "list(labels.columns)"
   ]
  },
  {
   "cell_type": "code",
   "execution_count": 20,
   "id": "b91f6cdc-d1f5-484c-bfdd-4cc292040a51",
   "metadata": {},
   "outputs": [
    {
     "data": {
      "text/plain": [
       "count    1366.000000\n",
       "mean        4.573419\n",
       "std         0.839596\n",
       "min         1.000000\n",
       "25%         4.000000\n",
       "50%         5.000000\n",
       "75%         5.000000\n",
       "max         5.000000\n",
       "Name: userSurveyRating, dtype: float64"
      ]
     },
     "execution_count": 20,
     "metadata": {},
     "output_type": "execute_result"
    }
   ],
   "source": [
    "labels.userSurveyRating.describe()"
   ]
  },
  {
   "cell_type": "code",
   "execution_count": 21,
   "id": "fa80ed25-2127-4fd6-a8b9-a668fc3a13ec",
   "metadata": {},
   "outputs": [
    {
     "data": {
      "text/plain": [
       "array([4.  , 3.  , 2.  , 5.  , 1.  ,  nan, 4.8 , 4.5 , 4.99, 3.5 ])"
      ]
     },
     "execution_count": 21,
     "metadata": {},
     "output_type": "execute_result"
    }
   ],
   "source": [
    "labels.userSurveyRating.unique()"
   ]
  },
  {
   "cell_type": "markdown",
   "id": "9415578f-489b-4e8a-b779-831648ca5f8b",
   "metadata": {},
   "source": [
    "<span style=\"color:red\">\n",
    "TODO: We observe values as nan, 4.8, 4.5, 4.99, 3.5. Theese values must be investigated for cleaning the dataset.\n",
    "</span>"
   ]
  },
  {
   "cell_type": "code",
   "execution_count": 22,
   "id": "7c96e943-3055-40f3-a9ec-900da7860d69",
   "metadata": {},
   "outputs": [
    {
     "data": {
      "image/png": "[encoded data removed]",
      "text/plain": [
       "<Figure size 640x480 with 1 Axes>"
      ]
     },
     "metadata": {},
     "output_type": "display_data"
    }
   ],
   "source": [
    "labels.userSurveyRating.value_counts().plot.bar()\n",
    "plt.xlabel(\"Valeurs uniques\")\n",
    "plt.ylabel(\"Nombre d'occurrences\")\n",
    "plt.title(\"label: userSurveyRating\")\n",
    "plt.show()"
   ]
  },
  {
   "cell_type": "markdown",
   "id": "ae5202a2-4f68-4ca0-ad09-dfcc42623567",
   "metadata": {},
   "source": [
    "En moyenne l'utilisateur a bien noté le chatbot."
   ]
  },
  {
   "cell_type": "code",
   "execution_count": 23,
   "id": "06aefa35-425f-4297-8713-4e52c16a1dfd",
   "metadata": {},
   "outputs": [
    {
     "data": {
      "text/plain": [
       "True     1287\n",
       "False      82\n",
       "Name: wizardSurveyTaskSuccessful, dtype: int64"
      ]
     },
     "execution_count": 23,
     "metadata": {},
     "output_type": "execute_result"
    }
   ],
   "source": [
    "labels.wizardSurveyTaskSuccessful.value_counts()"
   ]
  },
  {
   "cell_type": "markdown",
   "id": "c518600b-3eb6-4b4f-a504-8e1722898cf2",
   "metadata": {},
   "source": [
    "82 comunication avec le chatbot n'a pas aider l'utilisateur."
   ]
  },
  {
   "cell_type": "code",
   "execution_count": 24,
   "id": "6723825c-c342-490c-854c-2770448631a7",
   "metadata": {},
   "outputs": [
    {
     "data": {
      "image/png": "[encoded data removed]",
      "text/plain": [
       "<Figure size 640x480 with 1 Axes>"
      ]
     },
     "metadata": {},
     "output_type": "display_data"
    }
   ],
   "source": [
    "labels.wizardSurveyTaskSuccessful.value_counts().plot.bar()\n",
    "plt.xlabel(\"Valeurs uniques\")\n",
    "plt.ylabel(\"Nombre d'occurrences\")\n",
    "plt.title(\"label: wizardSurveyTaskSuccessful\")\n",
    "plt.show()"
   ]
  },
  {
   "cell_type": "markdown",
   "id": "e1acbfa3-d354-48c5-bfac-fec521a90b50",
   "metadata": {},
   "source": [
    "### turns\n",
    "- author: The author of the message in a dialogue. i.e. “user” or “wizard”.\n",
    "- text: The sentence that the author uttered. It is the exact text that the author of a turn said. E.g. “text”: “Consider it done. Have a great trip!”.\n",
    "- labels: JSON object which has three keys: \n",
    "    - active_frame: id of the currently active frame.\n",
    "    - acts: the dialogue acts for the current utterance. Each act has a **name** and arguments **args**.\n",
    "        - name: name of the dialogue act (offer or inform)\n",
    "        - args: contain the optional slot types (key) and slot values (val).\n",
    "    An act contains a ref tag whenever a user or wizard refers to a past frame. \n",
    "    - acts_without_refs: similar to the acts except that they do not have these ref tags.\n",
    "    We define the frame tracking task as the task that takes as input the acts_without_refs and outputs the acts.\n",
    "- timestamp: Unix timestamp denoting the time at which the current turn occurred.\n",
    "- frames: List of frames up to the current turn. Each frame has the following keys: frame_id, frame_parent_id, requests, binary_questions, compare_requests, and info.\n",
    "- db: It can only occur during a wizard’s turn. It is a list of search queries made by the wizard with the associated list of search results. E.g. “db”: {“search”: [{“ORIGIN_CITY”: “Montreal”}], “result”: []}"
   ]
  },
  {
   "cell_type": "code",
   "execution_count": 14,
   "id": "17b5eaab-549c-4b4c-9d36-d776b37a66e1",
   "metadata": {},
   "outputs": [
    {
     "data": {
      "text/plain": [
       "0       [{'text': 'I'd like to book a trip to Atlantis...\n",
       "1       [{'text': 'Hello, I am looking to book a vacat...\n",
       "2       [{'text': 'Hello there i am looking to go on a...\n",
       "3       [{'text': 'Hi I'd like to go to Caprica from B...\n",
       "4       [{'text': 'Hello, I am looking to book a trip ...\n",
       "                              ...                        \n",
       "1364    [{'text': 'Hi I've got 9 days free and I'm loo...\n",
       "1365    [{'text': 'I need to get to Fortaleza on Septe...\n",
       "1366    [{'text': 'We're finally going on vacation isn...\n",
       "1367    [{'text': 'Hi there, I'm looking for a place t...\n",
       "1368    [{'text': 'I need to book a trip for the whole...\n",
       "Name: turns, Length: 1369, dtype: object"
      ]
     },
     "execution_count": 14,
     "metadata": {},
     "output_type": "execute_result"
    }
   ],
   "source": [
    "#data.turns[discussion number][index_discusion][dictionary_values: author, text...]\n",
    "data.turns"
   ]
  },
  {
   "cell_type": "markdown",
   "id": "aeb36be6-2eb0-4970-95ae-e7b35f08b9aa",
   "metadata": {},
   "source": [
    "Let us look only for the first first turn, in order to understand it better."
   ]
  },
  {
   "cell_type": "code",
   "execution_count": 29,
   "id": "41b3e6fe-ce3a-49e4-8b57-d65215c1ea73",
   "metadata": {},
   "outputs": [],
   "source": [
    "first_turn = data.turns[0]"
   ]
  },
  {
   "cell_type": "code",
   "execution_count": 30,
   "id": "200ead18-d1d1-44f1-9924-2451d0cd30d0",
   "metadata": {},
   "outputs": [
    {
     "data": {
      "text/plain": [
       "'user'"
      ]
     },
     "execution_count": 30,
     "metadata": {},
     "output_type": "execute_result"
    }
   ],
   "source": [
    "first_turn[0]['author']"
   ]
  },
  {
   "cell_type": "code",
   "execution_count": 31,
   "id": "d462932c-85d4-4f15-a2b3-abadd9c510b9",
   "metadata": {},
   "outputs": [
    {
     "data": {
      "text/plain": [
       "'wizard'"
      ]
     },
     "execution_count": 31,
     "metadata": {},
     "output_type": "execute_result"
    }
   ],
   "source": [
    "first_turn[1]['author']"
   ]
  },
  {
   "cell_type": "code",
   "execution_count": 32,
   "id": "2318efc8-d235-4358-9b29-2f7d17ecbcb5",
   "metadata": {},
   "outputs": [
    {
     "data": {
      "text/plain": [
       "\"I'd like to book a trip to Atlantis from Caprica on Saturday, August 13, 2016 for 8 adults. I have a tight budget of 1700.\""
      ]
     },
     "execution_count": 32,
     "metadata": {},
     "output_type": "execute_result"
    }
   ],
   "source": [
    "first_turn[0]['text']"
   ]
  },
  {
   "cell_type": "code",
   "execution_count": 33,
   "id": "297bb73e-88f0-4079-bd7f-51a2cc6f04a3",
   "metadata": {},
   "outputs": [
    {
     "data": {
      "text/plain": [
       "'Hi...I checked a few options for you, and unfortunately, we do not currently have any trips that meet this criteria.  Would you like to book an alternate travel option?'"
      ]
     },
     "execution_count": 33,
     "metadata": {},
     "output_type": "execute_result"
    }
   ],
   "source": [
    "first_turn[1]['text']"
   ]
  },
  {
   "cell_type": "markdown",
   "id": "5dcb10ea-c386-4c1c-a1ca-a36a67a524e2",
   "metadata": {},
   "source": [
    "The turn consists of the discussion between a user and a wizzard."
   ]
  },
  {
   "cell_type": "code",
   "execution_count": 34,
   "id": "c00d6d04-7217-4acf-966e-cd0a4b091d98",
   "metadata": {},
   "outputs": [
    {
     "data": {
      "text/plain": [
       "{'acts': [{'args': [{'val': 'book', 'key': 'intent'}], 'name': 'inform'},\n",
       "  {'args': [{'val': 'Atlantis', 'key': 'dst_city'},\n",
       "    {'val': 'Caprica', 'key': 'or_city'},\n",
       "    {'val': 'Saturday, August 13, 2016', 'key': 'str_date'},\n",
       "    {'val': '8', 'key': 'n_adults'},\n",
       "    {'val': '1700', 'key': 'budget'}],\n",
       "   'name': 'inform'}],\n",
       " 'acts_without_refs': [{'args': [{'val': 'book', 'key': 'intent'}],\n",
       "   'name': 'inform'},\n",
       "  {'args': [{'val': 'Atlantis', 'key': 'dst_city'},\n",
       "    {'val': 'Caprica', 'key': 'or_city'},\n",
       "    {'val': 'Saturday, August 13, 2016', 'key': 'str_date'},\n",
       "    {'val': '8', 'key': 'n_adults'},\n",
       "    {'val': '1700', 'key': 'budget'}],\n",
       "   'name': 'inform'}],\n",
       " 'active_frame': 1,\n",
       " 'frames': [{'info': {'intent': [{'val': 'book', 'negated': False}],\n",
       "    'budget': [{'val': '1700.0', 'negated': False}],\n",
       "    'dst_city': [{'val': 'Atlantis', 'negated': False}],\n",
       "    'or_city': [{'val': 'Caprica', 'negated': False}],\n",
       "    'str_date': [{'val': 'august 13', 'negated': False}],\n",
       "    'n_adults': [{'val': '8', 'negated': False}]},\n",
       "   'frame_id': 1,\n",
       "   'requests': [],\n",
       "   'frame_parent_id': None,\n",
       "   'binary_questions': [],\n",
       "   'compare_requests': []}]}"
      ]
     },
     "execution_count": 34,
     "metadata": {},
     "output_type": "execute_result"
    }
   ],
   "source": [
    "first_turn[0]['labels']"
   ]
  },
  {
   "cell_type": "code",
   "execution_count": 35,
   "id": "3efd93b4-a053-4672-8417-1ef942a45de5",
   "metadata": {},
   "outputs": [
    {
     "data": {
      "text/plain": [
       "[{'args': [{'val': 'book', 'key': 'intent'}], 'name': 'inform'},\n",
       " {'args': [{'val': 'Atlantis', 'key': 'dst_city'},\n",
       "   {'val': 'Caprica', 'key': 'or_city'},\n",
       "   {'val': 'Saturday, August 13, 2016', 'key': 'str_date'},\n",
       "   {'val': '8', 'key': 'n_adults'},\n",
       "   {'val': '1700', 'key': 'budget'}],\n",
       "  'name': 'inform'}]"
      ]
     },
     "execution_count": 35,
     "metadata": {},
     "output_type": "execute_result"
    }
   ],
   "source": [
    "first_turn[0]['labels']['acts']"
   ]
  },
  {
   "cell_type": "code",
   "execution_count": 35,
   "id": "aa410177-8064-45c7-afe8-ff872581adbd",
   "metadata": {},
   "outputs": [
    {
     "data": {
      "text/plain": [
       "{'intent': [{'val': 'book', 'negated': False}],\n",
       " 'budget': [{'val': '1700.0', 'negated': False}],\n",
       " 'dst_city': [{'val': 'Atlantis', 'negated': False}],\n",
       " 'or_city': [{'val': 'Caprica', 'negated': False}],\n",
       " 'str_date': [{'val': 'august 13', 'negated': False}],\n",
       " 'n_adults': [{'val': '8', 'negated': False}],\n",
       " 'NO_RESULT': [{'val': True, 'negated': False}]}"
      ]
     },
     "execution_count": 35,
     "metadata": {},
     "output_type": "execute_result"
    }
   ],
   "source": [
    "first_turn[1]['labels']['frames'][0]['info']"
   ]
  },
  {
   "cell_type": "code",
   "execution_count": 36,
   "id": "773aaee4-31cb-499c-8f43-1c39bbc57332",
   "metadata": {},
   "outputs": [
    {
     "data": {
      "text/plain": [
       "1471272019730.0"
      ]
     },
     "execution_count": 36,
     "metadata": {},
     "output_type": "execute_result"
    }
   ],
   "source": [
    "first_turn[0]['timestamp']"
   ]
  },
  {
   "cell_type": "code",
   "execution_count": 37,
   "id": "3b4db05e-0543-41b9-b05b-38b940558391",
   "metadata": {},
   "outputs": [
    {
     "data": {
      "text/plain": [
       "1471272381399.0"
      ]
     },
     "execution_count": 37,
     "metadata": {},
     "output_type": "execute_result"
    }
   ],
   "source": [
    "first_turn[1]['timestamp']"
   ]
  },
  {
   "cell_type": "code",
   "execution_count": 38,
   "id": "c9831ec7-761e-4011-9c78-0c95a21abd85",
   "metadata": {},
   "outputs": [
    {
     "data": {
      "text/plain": [
       "{'result': [[{'trip': {'returning': {'duration': {'hours': 0, 'min': 51},\n",
       "      'arrival': {'hour': 10, 'year': 2016, 'day': 24, 'min': 51, 'month': 8},\n",
       "      'departure': {'hour': 10,\n",
       "       'year': 2016,\n",
       "       'day': 24,\n",
       "       'min': 0,\n",
       "       'month': 8}},\n",
       "     'seat': 'ECONOMY',\n",
       "     'leaving': {'duration': {'hours': 0, 'min': 51},\n",
       "      'arrival': {'hour': 0, 'year': 2016, 'day': 16, 'min': 51, 'month': 8},\n",
       "      'departure': {'hour': 0, 'year': 2016, 'day': 16, 'min': 0, 'month': 8}},\n",
       "     'or_city': 'Porto Alegre',\n",
       "     'duration_days': 9},\n",
       "    'price': 2118.81,\n",
       "    'hotel': {'gst_rating': 7.15,\n",
       "     'vicinity': [],\n",
       "     'name': 'Scarlet Palms Resort',\n",
       "     'country': 'Brazil',\n",
       "     'amenities': ['FREE_BREAKFAST', 'FREE_PARKING', 'FREE_WIFI'],\n",
       "     'dst_city': 'Goiania',\n",
       "     'category': '3.5 star hotel'}},\n",
       "   {'trip': {'returning': {'duration': {'hours': 2, 'min': 37},\n",
       "      'arrival': {'hour': 12, 'year': 2016, 'day': 10, 'min': 37, 'month': 8},\n",
       "      'departure': {'hour': 10,\n",
       "       'year': 2016,\n",
       "       'day': 10,\n",
       "       'min': 0,\n",
       "       'month': 8}},\n",
       "     'seat': 'ECONOMY',\n",
       "     'leaving': {'duration': {'hours': 2, 'min': 37},\n",
       "      'arrival': {'hour': 0, 'year': 2016, 'day': 4, 'min': 37, 'month': 8},\n",
       "      'departure': {'hour': 22, 'year': 2016, 'day': 3, 'min': 0, 'month': 8}},\n",
       "     'or_city': 'Porto Alegre',\n",
       "     'duration_days': 7},\n",
       "    'price': 2369.83,\n",
       "    'hotel': {'gst_rating': 0,\n",
       "     'vicinity': [],\n",
       "     'name': 'Sunway Hostel',\n",
       "     'country': 'Argentina',\n",
       "     'amenities': ['FREE_BREAKFAST', 'FREE_WIFI'],\n",
       "     'dst_city': 'Rosario',\n",
       "     'category': '2.0 star hotel'}},\n",
       "   {'trip': {'returning': {'duration': {'hours': 0, 'min': 51},\n",
       "      'arrival': {'hour': 10, 'year': 2016, 'day': 24, 'min': 51, 'month': 8},\n",
       "      'departure': {'hour': 10,\n",
       "       'year': 2016,\n",
       "       'day': 24,\n",
       "       'min': 0,\n",
       "       'month': 8}},\n",
       "     'seat': 'BUSINESS',\n",
       "     'leaving': {'duration': {'hours': 0, 'min': 51},\n",
       "      'arrival': {'hour': 0, 'year': 2016, 'day': 16, 'min': 51, 'month': 8},\n",
       "      'departure': {'hour': 0, 'year': 2016, 'day': 16, 'min': 0, 'month': 8}},\n",
       "     'or_city': 'Porto Alegre',\n",
       "     'duration_days': 9},\n",
       "    'price': 2375.72,\n",
       "    'hotel': {'gst_rating': 7.15,\n",
       "     'vicinity': [],\n",
       "     'name': 'Scarlet Palms Resort',\n",
       "     'country': 'Brazil',\n",
       "     'amenities': ['FREE_BREAKFAST', 'FREE_PARKING', 'FREE_WIFI'],\n",
       "     'dst_city': 'Goiania',\n",
       "     'category': '3.5 star hotel'}},\n",
       "   {'trip': {'returning': {'duration': {'hours': 1, 'min': 30},\n",
       "      'arrival': {'hour': 11, 'year': 2016, 'day': 1, 'min': 30, 'month': 9},\n",
       "      'departure': {'hour': 10, 'year': 2016, 'day': 1, 'min': 0, 'month': 9}},\n",
       "     'seat': 'BUSINESS',\n",
       "     'leaving': {'duration': {'hours': 1, 'min': 30},\n",
       "      'arrival': {'hour': 18, 'year': 2016, 'day': 19, 'min': 30, 'month': 8},\n",
       "      'departure': {'hour': 17,\n",
       "       'year': 2016,\n",
       "       'day': 19,\n",
       "       'min': 0,\n",
       "       'month': 8}},\n",
       "     'or_city': 'Porto Alegre',\n",
       "     'duration_days': 13},\n",
       "    'price': 2492.95,\n",
       "    'hotel': {'gst_rating': 0,\n",
       "     'vicinity': [],\n",
       "     'name': 'Hotel Mundo',\n",
       "     'country': 'Brazil',\n",
       "     'amenities': ['FREE_BREAKFAST', 'FREE_WIFI', 'FREE_PARKING'],\n",
       "     'dst_city': 'Manaus',\n",
       "     'category': '2.5 star hotel'}},\n",
       "   {'trip': {'returning': {'duration': {'hours': 0, 'min': 51},\n",
       "      'arrival': {'hour': 10, 'year': 2016, 'day': 31, 'min': 51, 'month': 8},\n",
       "      'departure': {'hour': 10,\n",
       "       'year': 2016,\n",
       "       'day': 31,\n",
       "       'min': 0,\n",
       "       'month': 8}},\n",
       "     'seat': 'ECONOMY',\n",
       "     'leaving': {'duration': {'hours': 0, 'min': 51},\n",
       "      'arrival': {'hour': 19, 'year': 2016, 'day': 27, 'min': 51, 'month': 8},\n",
       "      'departure': {'hour': 19,\n",
       "       'year': 2016,\n",
       "       'day': 27,\n",
       "       'min': 0,\n",
       "       'month': 8}},\n",
       "     'or_city': 'Porto Alegre',\n",
       "     'duration_days': 4},\n",
       "    'price': 2538.0,\n",
       "    'hotel': {'gst_rating': 8.22,\n",
       "     'vicinity': [],\n",
       "     'name': 'The Glee',\n",
       "     'country': 'Brazil',\n",
       "     'amenities': ['FREE_BREAKFAST', 'FREE_WIFI'],\n",
       "     'dst_city': 'Recife',\n",
       "     'category': '4.0 star hotel'}}],\n",
       "  [],\n",
       "  [],\n",
       "  [],\n",
       "  [],\n",
       "  [],\n",
       "  []],\n",
       " 'search': [{'ORIGIN_CITY': 'Porto Alegre',\n",
       "   'PRICE_MIN': '2000',\n",
       "   'NUM_ADULTS': '2',\n",
       "   'timestamp': 1471271949.995,\n",
       "   'PRICE_MAX': '3000',\n",
       "   'ARE_DATES_FLEXIBLE': 'true',\n",
       "   'NUM_CHILDREN': '5',\n",
       "   'START_TIME': '1470110400000',\n",
       "   'MAX_DURATION': 2592000000.0,\n",
       "   'DESTINATION_CITY': 'Brazil',\n",
       "   'RESULT_LIMIT': '10',\n",
       "   'END_TIME': '1472616000000'},\n",
       "  {'ORIGIN_CITY': 'Atlantis',\n",
       "   'NUM_ADULTS': '8',\n",
       "   'RESULT_LIMIT': '10',\n",
       "   'timestamp': 1471272148.124,\n",
       "   'PRICE_MAX': '1700',\n",
       "   'NUM_CHILDREN': '',\n",
       "   'ARE_DATES_FLEXIBLE': 'true',\n",
       "   'START_TIME': 'NaN',\n",
       "   'END_TIME': 'NaN'},\n",
       "  {'ORIGIN_CITY': 'Caprica',\n",
       "   'PRICE_MAX': '1700',\n",
       "   'NUM_ADULTS': '8',\n",
       "   'RESULT_LIMIT': '10',\n",
       "   'timestamp': 1471272189.07,\n",
       "   'DESTINATION_CITY': 'Atlantis',\n",
       "   'NUM_CHILDREN': '',\n",
       "   'ARE_DATES_FLEXIBLE': 'true',\n",
       "   'START_TIME': '1470715200000',\n",
       "   'END_TIME': '1472011200000'},\n",
       "  {'ORIGIN_CITY': 'Caprica',\n",
       "   'PRICE_MAX': '1700',\n",
       "   'NUM_ADULTS': '8',\n",
       "   'RESULT_LIMIT': '10',\n",
       "   'timestamp': 1471272205.436,\n",
       "   'DESTINATION_CITY': 'Atlantis',\n",
       "   'NUM_CHILDREN': '',\n",
       "   'ARE_DATES_FLEXIBLE': 'true',\n",
       "   'START_TIME': '1470715200000',\n",
       "   'END_TIME': '1472011200000'},\n",
       "  {'ORIGIN_CITY': 'Caprica',\n",
       "   'PRICE_MIN': '1700',\n",
       "   'NUM_ADULTS': '8',\n",
       "   'RESULT_LIMIT': '10',\n",
       "   'timestamp': 1471272278.72,\n",
       "   'DESTINATION_CITY': 'Atlantis',\n",
       "   'NUM_CHILDREN': '',\n",
       "   'ARE_DATES_FLEXIBLE': 'true',\n",
       "   'START_TIME': '1470715200000',\n",
       "   'END_TIME': '1472011200000'},\n",
       "  {'ORIGIN_CITY': 'Caprica',\n",
       "   'PRICE_MIN': '1700',\n",
       "   'NUM_ADULTS': '8',\n",
       "   'RESULT_LIMIT': '10',\n",
       "   'timestamp': 1471272454.542,\n",
       "   'DESTINATION_CITY': 'Atlantis',\n",
       "   'NUM_CHILDREN': '',\n",
       "   'ARE_DATES_FLEXIBLE': 'true',\n",
       "   'START_TIME': '1471060800000',\n",
       "   'END_TIME': '1472011200000'},\n",
       "  {'ORIGIN_CITY': 'Caprica',\n",
       "   'PRICE_MIN': '1700',\n",
       "   'NUM_ADULTS': '8',\n",
       "   'RESULT_LIMIT': '10',\n",
       "   'timestamp': 1471272466.008,\n",
       "   'DESTINATION_CITY': 'Atlantis',\n",
       "   'NUM_CHILDREN': '',\n",
       "   'ARE_DATES_FLEXIBLE': 'true',\n",
       "   'START_TIME': '1471060800000',\n",
       "   'END_TIME': '1472011200000'}]}"
      ]
     },
     "execution_count": 38,
     "metadata": {},
     "output_type": "execute_result"
    }
   ],
   "source": [
    "first_turn[1]['db']"
   ]
  },
  {
   "cell_type": "markdown",
   "id": "3d91423d-aeef-4286-b4bb-d125a8ed0fc4",
   "metadata": {},
   "source": [
    "Reading and understanding turns:"
   ]
  },
  {
   "cell_type": "code",
   "execution_count": 36,
   "id": "8e40a2e5-7d13-4b63-8f7f-7141a131e168",
   "metadata": {},
   "outputs": [
    {
     "data": {
      "text/plain": [
       "0       [{'text': 'I'd like to book a trip to Atlantis...\n",
       "1       [{'text': 'Hello, I am looking to book a vacat...\n",
       "2       [{'text': 'Hello there i am looking to go on a...\n",
       "3       [{'text': 'Hi I'd like to go to Caprica from B...\n",
       "4       [{'text': 'Hello, I am looking to book a trip ...\n",
       "                              ...                        \n",
       "1364    [{'text': 'Hi I've got 9 days free and I'm loo...\n",
       "1365    [{'text': 'I need to get to Fortaleza on Septe...\n",
       "1366    [{'text': 'We're finally going on vacation isn...\n",
       "1367    [{'text': 'Hi there, I'm looking for a place t...\n",
       "1368    [{'text': 'I need to book a trip for the whole...\n",
       "Name: turns, Length: 1369, dtype: object"
      ]
     },
     "execution_count": 36,
     "metadata": {},
     "output_type": "execute_result"
    }
   ],
   "source": [
    "data['turns']"
   ]
  },
  {
   "cell_type": "markdown",
   "id": "ff1b59b9-3dfa-4faf-9fe3-a6e33178e897",
   "metadata": {},
   "source": [
    "Les clés qui nous intéresse dans le cadre de ce MVP sont :\n",
    "\n",
    " - `or_city` (Ville de départ)\n",
    " - `dst_city` (Ville de destination)\n",
    " - `str_date` (Date aller souhaitée du vol)\n",
    " - `end_date` (Date retour souhaitée du vol)\n",
    " - `budget` (Budget maximum pour le prix total des billets)"
   ]
  },
  {
   "cell_type": "code",
   "execution_count": 52,
   "id": "8fa1b3bd-0b8e-454f-8f67-02a73a253384",
   "metadata": {},
   "outputs": [
    {
     "data": {
      "text/plain": [
       "{'intent': [{'val': 'book', 'negated': False}],\n",
       " 'budget': [{'val': '1700.0', 'negated': False}],\n",
       " 'dst_city': [{'val': 'Atlantis', 'negated': False}],\n",
       " 'or_city': [{'val': 'Caprica', 'negated': True}],\n",
       " 'str_date': [{'val': 'august 13', 'negated': False}],\n",
       " 'n_adults': [{'val': '8', 'negated': False}]}"
      ]
     },
     "execution_count": 52,
     "metadata": {},
     "output_type": "execute_result"
    }
   ],
   "source": [
    "data.turns[0][6]['labels']['frames'][0]['info']"
   ]
  },
  {
   "cell_type": "code",
   "execution_count": 15,
   "id": "a829ce8c-2f9d-422d-87ee-2b1740f1b5ac",
   "metadata": {},
   "outputs": [
    {
     "name": "stdout",
     "output_type": "stream",
     "text": [
      "\n",
      "DISCUSION # 0\n",
      "\n",
      "0 - user says : \n",
      "\"I'd like to book a trip to Atlantis from Caprica on Saturday, August 13, 2016 for 8 adults. I have a tight budget of 1700.\"\n",
      "Known facts : \n",
      "{'intent': 'book', 'budget': '1700.0', 'dst_city': 'Atlantis', 'or_city': 'Caprica', 'str_date': 'august 13', 'n_adults': '8'}\n",
      "\n",
      "1 - wizard says : \n",
      "\"Hi...I checked a few options for you, and unfortunately, we do not currently have any trips that meet this criteria.  Would you like to book an alternate travel option?\"\n",
      "Known facts : \n",
      "{'intent': 'book', 'budget': '1700.0', 'dst_city': 'Atlantis', 'or_city': 'Caprica', 'str_date': 'august 13', 'n_adults': '8', 'NO_RESULT': True}\n",
      "\n",
      "2 - user says : \n",
      "\"Yes, how about going to Neverland from Caprica on August 13, 2016 for 5 adults. For this trip, my budget would be 1900.\"\n",
      "Known facts : \n",
      "{'intent': 'book', 'budget': '1900.0', 'dst_city': 'Neverland', 'or_city': 'Caprica', 'str_date': 'august 13', 'n_adults': '5', 'NO_RESULT': True}\n",
      "\n",
      "3 - wizard says : \n",
      "\"I checked the availability for this date and there were no trips available.  Would you like to select some alternate dates?\"\n",
      "Known facts : \n",
      "{'intent': 'book', 'budget': '1900.0', 'dst_city': 'Neverland', 'or_city': 'Caprica', 'str_date': 'august 13', 'n_adults': '5', 'NO_RESULT': True}\n",
      "\n",
      "4 - user says : \n",
      "\"I have no flexibility for dates... but I can leave from Atlantis rather than Caprica. How about that?\"\n",
      "Known facts : \n",
      "{'intent': 'book', 'budget': '1700.0', 'dst_city': 'Atlantis', 'or_city': 'Atlantis', 'str_date': 'august 13', 'n_adults': '8', 'NO_RESULT': True, 'flex': False}\n",
      "\n",
      "5 - wizard says : \n",
      "\"I checked the availability for that date and there were no trips available.  Would you like to select some alternate dates?\"\n",
      "Known facts : \n",
      "{'intent': 'book', 'budget': '1700.0', 'dst_city': 'Atlantis', 'or_city': 'Atlantis', 'str_date': 'august 13', 'n_adults': '8', 'NO_RESULT': True, 'flex': False}\n",
      "\n",
      "6 - user says : \n",
      "\"I suppose I'll speak with my husband to see if we can choose other dates, and then I'll come back to you.Thanks for your help\"\n",
      "Known facts : \n",
      "{'intent': 'book', 'budget': '1700.0', 'dst_city': 'Atlantis', 'or_city': 'Atlantis', 'str_date': 'august 13', 'n_adults': '8', 'NO_RESULT': True, 'flex': False}\n",
      "\n"
     ]
    }
   ],
   "source": [
    "# Boucle sur les tours de la donnée brute\n",
    "for index, turn in enumerate(data.loc[0:0,\"turns\"]):\n",
    "    # turn est une discution entre une utilisateur et une wizard\n",
    "    # Imprimer une ligne vide\n",
    "    print()\n",
    "    print(\"DISCUSION # {0}\".format(index))\n",
    "    print()\n",
    "\n",
    "    # Initialiser un dictionnaire pour les faits connus\n",
    "    known_facts = {}\n",
    "\n",
    "    # Boucle sur les messages de chaque tour\n",
    "    for i, frame in enumerate(turn):\n",
    "        # Imprimer l'auteur et le texte du message\n",
    "        print(f'{i} - { frame[\"author\"] } says : \\n\"{ frame[\"text\"] }\"')\n",
    "\n",
    "        # Mettre à jour les faits connus avec les nouvelles informations\n",
    "        # Boucle sur les frames dans les messages\n",
    "        for f in frame[\"labels\"][\"frames\"]:\n",
    "            # Boucle sur les informations dans chaque frame\n",
    "            for info_key, info in f[\"info\"].items():\n",
    "                # Si la valeur n'est pas négative, ajouter l'info_key et la dernière valeur à known_facts\n",
    "                if not info[-1][\"negated\"]:\n",
    "                    known_facts[info_key] = info[-1][\"val\"]\n",
    "                # Si la valeur est négative, ajouter l'info_key à known_facts avec None comme valeur\n",
    "                else:\n",
    "                    known_facts[info_key] = None\n",
    "\n",
    "\n",
    "        # Imprimer les faits connus\n",
    "        print(f\"Known facts : \\n{known_facts}\")\n",
    "        print()"
   ]
  },
  {
   "cell_type": "code",
   "execution_count": 6,
   "id": "17238081-c345-4dbb-bd4a-191506f775b7",
   "metadata": {},
   "outputs": [],
   "source": [
    "# Initialisation d'un dictionnaire pour stocker les clés et valeurs\n",
    "dict_keys = {'or_city': [], 'dst_city': [], 'str_date': [], 'end_date': [], 'budget': []}\n",
    "\n",
    "# Pour chaque tour dans la liste de tours\n",
    "for turn in data.turns:\n",
    "    # Pour chaque message dans le tour\n",
    "    for message in turn:\n",
    "        # Si le message n'est pas de l'utilisateur, passer au message suivant\n",
    "        if message['author'] != 'user':\n",
    "            continue\n",
    "\n",
    "        # Récupération des acts associés au message\n",
    "        acts = message['labels']['acts']\n",
    "\n",
    "        # Pour chaque act associé au message\n",
    "        for act in acts:\n",
    "            # Pour chaque argument associé à l'act\n",
    "            for arg in act['args']:\n",
    "                # Récupération de la clé et de la valeur à partir de l'argument\n",
    "                key, value = utl.get_key_value(arg)\n",
    "\n",
    "                # Si la clé n'est pas parmi les clés recherchées, passer au argument suivant\n",
    "                if key not in dict_keys.keys():\n",
    "                    continue\n",
    "\n",
    "                # Ajout de la valeur associée à la clé dans le dictionnaire\n",
    "                dict_keys[key].append(value)\n"
   ]
  },
  {
   "cell_type": "code",
   "execution_count": 7,
   "id": "21186cb3-7b3b-41ef-bbb0-a46518934259",
   "metadata": {},
   "outputs": [
    {
     "name": "stdout",
     "output_type": "stream",
     "text": [
      "0 {'args': [{'val': 'book', 'key': 'intent'}], 'name': 'inform'}\n",
      "1 {'args': [{'val': 'Atlantis', 'key': 'dst_city'}, {'val': 'Caprica', 'key': 'or_city'}, {'val': 'Saturday, August 13, 2016', 'key': 'str_date'}, {'val': '8', 'key': 'n_adults'}, {'val': '1700', 'key': 'budget'}], 'name': 'inform'}\n"
     ]
    }
   ],
   "source": [
    "for i,act in enumerate(data.turns[0][0]['labels']['acts']):\n",
    "    print(i, act)"
   ]
  },
  {
   "cell_type": "code",
   "execution_count": 8,
   "id": "ae151942-100e-4325-8022-716ac1343b04",
   "metadata": {},
   "outputs": [],
   "source": [
    "utterances = []\n",
    "\n",
    "for turn in data.turns:\n",
    "    for message in turn:\n",
    "        # Seulement les messages provenant de l'utilisateur\n",
    "        if message['author'] == 'user':\n",
    "            text = message['text']\n",
    "            entity_labels = []\n",
    "\n",
    "            for act in message['labels']['acts']:\n",
    "                for arg in act['args']:\n",
    "\n",
    "                    key, value = utl.get_key_value(arg)\n",
    "\n",
    "                    if key not in dict_keys.keys() or key == None or value == None:\n",
    "                        continue\n",
    "\n",
    "                    entity_labels.append(utl.get_entity_labels(text, key, value))\n",
    "            \n",
    "            if entity_labels:\n",
    "                utterances.append({\n",
    "                    'text': text,\n",
    "                    'intent_name': 'BookFlight',\n",
    "                    'entity_labels': entity_labels\n",
    "                })"
   ]
  },
  {
   "cell_type": "code",
   "execution_count": 9,
   "id": "5b2559fa-7b6c-488a-82e5-842234f6cd95",
   "metadata": {},
   "outputs": [
    {
     "data": {
      "text/plain": [
       "4376"
      ]
     },
     "execution_count": 9,
     "metadata": {},
     "output_type": "execute_result"
    }
   ],
   "source": [
    "len(utterances)"
   ]
  },
  {
   "cell_type": "code",
   "execution_count": 10,
   "id": "626d0be9-a4fc-4418-9522-1851f4bc00b8",
   "metadata": {},
   "outputs": [
    {
     "data": {
      "text/plain": [
       "{'text': \"I'd like to book a trip to Atlantis from Caprica on Saturday, August 13, 2016 for 8 adults. I have a tight budget of 1700.\",\n",
       " 'intent_name': 'BookFlight',\n",
       " 'entity_labels': [{'entity_name': 'dst_city',\n",
       "   'start_char_index': 27,\n",
       "   'end_char_index': 35},\n",
       "  {'entity_name': 'or_city', 'start_char_index': 41, 'end_char_index': 48},\n",
       "  {'entity_name': 'str_date', 'start_char_index': 52, 'end_char_index': 77},\n",
       "  {'entity_name': 'budget', 'start_char_index': 117, 'end_char_index': 121}]}"
      ]
     },
     "execution_count": 10,
     "metadata": {},
     "output_type": "execute_result"
    }
   ],
   "source": [
    "utterances[0]"
   ]
  },
  {
   "cell_type": "markdown",
   "id": "0120c41f-8f2f-4b35-8de9-f4b224966f20",
   "metadata": {
    "tags": []
   },
   "source": [
    "# LUIS\n",
    "## Creating the application"
   ]
  },
  {
   "cell_type": "code",
   "execution_count": null,
   "id": "163e63f4-b324-47e8-a0c7-a2b634a94821",
   "metadata": {},
   "outputs": [],
   "source": [
    "NEW_APP = False"
   ]
  },
  {
   "cell_type": "code",
   "execution_count": 11,
   "id": "75fbe2e1-7454-40b9-a673-aac044ff3405",
   "metadata": {},
   "outputs": [],
   "source": [
    "from luis_helper import LUISHelper"
   ]
  },
  {
   "cell_type": "code",
   "execution_count": 12,
   "id": "b7658753-0492-433f-a066-60d24bdc7af9",
   "metadata": {},
   "outputs": [
    {
     "name": "stdout",
     "output_type": "stream",
     "text": [
      "App bookfly 1.0 55fd2a2b-1240-48d5-b5fa-a1c5d5f44791 created with ID c2ad16eb-c106-438c-b487-cfc569117efe\n"
     ]
    }
   ],
   "source": [
    "client = LUISHelper()\n",
    "if NEW_APP:\n",
    "    client.create_app()\n",
    "else:\n",
    "    app_id = 'c2ad16eb-c106-438c-b487-cfc569117efe'\n",
    "    client.load_app(app_id)"
   ]
  },
  {
   "cell_type": "code",
   "execution_count": 13,
   "id": "bf2e75a1-a7da-47e9-a206-0a1f780d3b31",
   "metadata": {},
   "outputs": [
    {
     "name": "stdout",
     "output_type": "stream",
     "text": [
      "Prebuilt entity geographyV2 added with ID [<azure.cognitiveservices.language.luis.authoring.models._models_py3.PrebuiltEntityExtractor object at 0x2803d01f0>] to app c2ad16eb-c106-438c-b487-cfc569117efe\n",
      "Prebuilt entity datetimeV2 added with ID [<azure.cognitiveservices.language.luis.authoring.models._models_py3.PrebuiltEntityExtractor object at 0x2803d0160>] to app c2ad16eb-c106-438c-b487-cfc569117efe\n",
      "Prebuilt entity number added with ID [<azure.cognitiveservices.language.luis.authoring.models._models_py3.PrebuiltEntityExtractor object at 0x2803d0760>] to app c2ad16eb-c106-438c-b487-cfc569117efe\n"
     ]
    }
   ],
   "source": [
    "prebuilt_entities = ['geographyV2', 'datetimeV2', 'number']\n",
    "client.add_prebuilt_entities(prebuilt_entities)"
   ]
  },
  {
   "cell_type": "code",
   "execution_count": 14,
   "id": "8ec4feed-f59f-4fe0-8574-2714f5614d1c",
   "metadata": {},
   "outputs": [
    {
     "name": "stdout",
     "output_type": "stream",
     "text": [
      "Custom entity or_city added with ID 12123bbc-1a5b-4564-92a2-9cba5d21ae2f to app c2ad16eb-c106-438c-b487-cfc569117efe\n",
      "geographyV2 feature created with ID {'additional_properties': {}, 'code': 'Success', 'message': 'Operation Successful'} in entity id 12123bbc-1a5b-4564-92a2-9cba5d21ae2f\n",
      "Custom entity dst_city added with ID 9aa1595c-d430-4245-8ef5-b95f546cfefc to app c2ad16eb-c106-438c-b487-cfc569117efe\n",
      "geographyV2 feature created with ID {'additional_properties': {}, 'code': 'Success', 'message': 'Operation Successful'} in entity id 9aa1595c-d430-4245-8ef5-b95f546cfefc\n",
      "Custom entity str_date added with ID 517eff9c-03e9-4a5f-a5b9-4b4e5ed67a01 to app c2ad16eb-c106-438c-b487-cfc569117efe\n",
      "datetimeV2 feature created with ID {'additional_properties': {}, 'code': 'Success', 'message': 'Operation Successful'} in entity id 517eff9c-03e9-4a5f-a5b9-4b4e5ed67a01\n",
      "Custom entity end_date added with ID f5550b72-7156-4fad-9170-bada1c70aa11 to app c2ad16eb-c106-438c-b487-cfc569117efe\n",
      "datetimeV2 feature created with ID {'additional_properties': {}, 'code': 'Success', 'message': 'Operation Successful'} in entity id f5550b72-7156-4fad-9170-bada1c70aa11\n",
      "Custom entity budget added with ID 4a48270d-3c13-4f7f-97ae-1cf4fb332471 to app c2ad16eb-c106-438c-b487-cfc569117efe\n",
      "number feature created with ID {'additional_properties': {}, 'code': 'Success', 'message': 'Operation Successful'} in entity id 4a48270d-3c13-4f7f-97ae-1cf4fb332471\n"
     ]
    }
   ],
   "source": [
    "client.add_entities_and_features()"
   ]
  },
  {
   "cell_type": "code",
   "execution_count": 15,
   "id": "dea4e8b1-96ac-4e6a-bf2a-39ba6c09675b",
   "metadata": {},
   "outputs": [
    {
     "name": "stdout",
     "output_type": "stream",
     "text": [
      "BookFlight intent created with id e3ece8f6-dfe0-463c-a6c6-5b37097ffb98\n"
     ]
    }
   ],
   "source": [
    "# Create intent into the model\n",
    "intent_name = \"BookFlight\"\n",
    "\n",
    "client.add_intent(intent_name)"
   ]
  },
  {
   "cell_type": "code",
   "execution_count": 16,
   "id": "6d91d2c0-70e6-4488-b5b1-5a54bcd0997e",
   "metadata": {},
   "outputs": [],
   "source": [
    "from sklearn.model_selection import train_test_split\n",
    "train_data, test_data = train_test_split(utterances, test_size=0.2, shuffle=True)"
   ]
  },
  {
   "cell_type": "code",
   "execution_count": 17,
   "id": "0a7ebe6b-4fb7-48b5-8da0-97a21841be74",
   "metadata": {},
   "outputs": [],
   "source": [
    "client.add_utterace(train_data)"
   ]
  },
  {
   "cell_type": "markdown",
   "id": "8fffcdb4-3778-40e4-acdc-bfadc1a261e4",
   "metadata": {},
   "source": [
    "## Training"
   ]
  },
  {
   "cell_type": "code",
   "execution_count": 18,
   "id": "5945e1ce-013c-437d-826f-678db515368c",
   "metadata": {},
   "outputs": [
    {
     "name": "stdout",
     "output_type": "stream",
     "text": [
      "Start training the app...\n",
      "Waiting 10 seconds for training to complete...\n",
      "Waiting 10 seconds for training to complete...\n",
      "Waiting 10 seconds for training to complete...\n",
      "Waiting 10 seconds for training to complete...\n",
      "Waiting 10 seconds for training to complete...\n",
      "Waiting 10 seconds for training to complete...\n",
      "Waiting 10 seconds for training to complete...\n",
      "Waiting 10 seconds for training to complete...\n",
      "Waiting 10 seconds for training to complete...\n",
      "Waiting 10 seconds for training to complete...\n",
      "Waiting 10 seconds for training to complete...\n",
      "Waiting 10 seconds for training to complete...\n",
      "Waiting 10 seconds for training to complete...\n",
      "Waiting 10 seconds for training to complete...\n",
      "Waiting 10 seconds for training to complete...\n",
      "Waiting 10 seconds for training to complete...\n",
      "Waiting 10 seconds for training to complete...\n",
      "Waiting 10 seconds for training to complete...\n",
      "Waiting 10 seconds for training to complete...\n",
      "Waiting 10 seconds for training to complete...\n",
      "Waiting 10 seconds for training to complete...\n",
      "Waiting 10 seconds for training to complete...\n",
      "The app is trained !\n"
     ]
    }
   ],
   "source": [
    "client.train_app()"
   ]
  },
  {
   "cell_type": "markdown",
   "id": "6360c93b-a133-40a6-bc9f-9a2d43363fdd",
   "metadata": {},
   "source": [
    "## Publishing"
   ]
  },
  {
   "cell_type": "code",
   "execution_count": 19,
   "id": "fc43dc5d-b1fd-4c93-b3cc-eeb6f391476e",
   "metadata": {},
   "outputs": [
    {
     "name": "stdout",
     "output_type": "stream",
     "text": [
      "Start publishing the app...\n",
      "The app is published.\n"
     ]
    }
   ],
   "source": [
    "client.publish_app()"
   ]
  },
  {
   "cell_type": "markdown",
   "id": "1377e06d-e6c2-4d13-90ef-c109ffab8c31",
   "metadata": {},
   "source": [
    "## Testing if everithing works"
   ]
  },
  {
   "cell_type": "code",
   "execution_count": 20,
   "id": "a504e6e6-7dbe-4e11-aae0-5aa7a113b885",
   "metadata": {},
   "outputs": [
    {
     "data": {
      "text/plain": [
       "'c2ad16eb-c106-438c-b487-cfc569117efe'"
      ]
     },
     "execution_count": 20,
     "metadata": {},
     "output_type": "execute_result"
    }
   ],
   "source": [
    "client.app_id"
   ]
  },
  {
   "cell_type": "code",
   "execution_count": null,
   "id": "baac33f7-5d0c-4149-b45d-eda63ee94b02",
   "metadata": {},
   "outputs": [],
   "source": []
  }
 ],
 "metadata": {
  "kernelspec": {
   "display_name": "Python 3 (ipykernel)",
   "language": "python",
   "name": "python3"
  },
  "language_info": {
   "codemirror_mode": {
    "name": "ipython",
    "version": 3
   },
   "file_extension": ".py",
   "mimetype": "text/x-python",
   "name": "python",
   "nbconvert_exporter": "python",
   "pygments_lexer": "ipython3",
   "version": "3.9.16"
  }
 },
 "nbformat": 4,
 "nbformat_minor": 5
}
