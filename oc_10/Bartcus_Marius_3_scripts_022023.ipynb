{
 "cells": [
  {
   "cell_type": "markdown",
   "id": "aefe201e-ef86-4e92-b2b5-82c9bbb3baf4",
   "metadata": {},
   "source": [
    "- construire un chatbot pour que les collaborateurs internes puissent facilement réserver un billet d’avion pour leurs prochaines vacances.\n",
    "- La V1 devra pouvoir identifier dans la demande de l’utilisateur les cinq éléments suivants :\n",
    "    - Ville de départ\n",
    "    - Ville de destination\n",
    "    - Date aller souhaitée du vol\n",
    "    - Date retour souhaitée du vol\n",
    "    - Budget maximum pour le prix total des billets\n",
    "    \n",
    "Les données:\n",
    "- historiques d’échange entre un chatbot et un utilisateur."
   ]
  },
  {
   "cell_type": "code",
   "execution_count": 1,
   "id": "afb861e0-5c5e-48dd-960c-3fd98ef077ba",
   "metadata": {},
   "outputs": [],
   "source": [
    "FRAMES_DATA = 'data/frames/frames.json'"
   ]
  },
  {
   "cell_type": "markdown",
   "id": "6d074312-ed57-41f1-a053-2db60b456387",
   "metadata": {},
   "source": [
    "# Library importation"
   ]
  },
  {
   "cell_type": "code",
   "execution_count": 2,
   "id": "250519ce-11c5-444d-9166-8d79e4c8d689",
   "metadata": {},
   "outputs": [],
   "source": [
    "import numpy as np\n",
    "import pandas as pd\n",
    "import matplotlib.pyplot as plt\n",
    "import utils as utl"
   ]
  },
  {
   "cell_type": "code",
   "execution_count": 3,
   "id": "07052068-3c9f-4712-a1bb-f01167805c3c",
   "metadata": {},
   "outputs": [],
   "source": [
    "import json, time, uuid"
   ]
  },
  {
   "cell_type": "markdown",
   "id": "7d983723-2583-4d09-9f62-fff24af76b78",
   "metadata": {},
   "source": [
    "# Loading Dataset"
   ]
  },
  {
   "cell_type": "code",
   "execution_count": 4,
   "id": "2cde32dc-9e34-43f9-b76f-25045bed7a14",
   "metadata": {},
   "outputs": [],
   "source": [
    "## Load the dataset in a Pandas Dataframe (in memory)\n",
    "data = pd.read_json(FRAMES_DATA)"
   ]
  },
  {
   "cell_type": "markdown",
   "id": "35e46039-c044-4a16-869a-d60c87a223aa",
   "metadata": {},
   "source": [
    "## Describing data "
   ]
  },
  {
   "cell_type": "code",
   "execution_count": 5,
   "id": "341581db-e1cf-45cd-ad13-fd6d54a972e9",
   "metadata": {},
   "outputs": [
    {
     "data": {
      "text/html": [
       "<div>\n",
       "<style scoped>\n",
       "    .dataframe tbody tr th:only-of-type {\n",
       "        vertical-align: middle;\n",
       "    }\n",
       "\n",
       "    .dataframe tbody tr th {\n",
       "        vertical-align: top;\n",
       "    }\n",
       "\n",
       "    .dataframe thead th {\n",
       "        text-align: right;\n",
       "    }\n",
       "</style>\n",
       "<table border=\"1\" class=\"dataframe\">\n",
       "  <thead>\n",
       "    <tr style=\"text-align: right;\">\n",
       "      <th></th>\n",
       "      <th>user_id</th>\n",
       "      <th>turns</th>\n",
       "      <th>wizard_id</th>\n",
       "      <th>id</th>\n",
       "      <th>labels</th>\n",
       "    </tr>\n",
       "  </thead>\n",
       "  <tbody>\n",
       "    <tr>\n",
       "      <th>0</th>\n",
       "      <td>U22HTHYNP</td>\n",
       "      <td>[{'text': 'I'd like to book a trip to Atlantis...</td>\n",
       "      <td>U21DKG18C</td>\n",
       "      <td>e2c0fc6c-2134-4891-8353-ef16d8412c9a</td>\n",
       "      <td>{'userSurveyRating': 4.0, 'wizardSurveyTaskSuc...</td>\n",
       "    </tr>\n",
       "    <tr>\n",
       "      <th>1</th>\n",
       "      <td>U21E41CQP</td>\n",
       "      <td>[{'text': 'Hello, I am looking to book a vacat...</td>\n",
       "      <td>U21DMV0KA</td>\n",
       "      <td>4a3bfa39-2c22-42c8-8694-32b4e34415e9</td>\n",
       "      <td>{'userSurveyRating': 3.0, 'wizardSurveyTaskSuc...</td>\n",
       "    </tr>\n",
       "    <tr>\n",
       "      <th>2</th>\n",
       "      <td>U21RP4FCY</td>\n",
       "      <td>[{'text': 'Hello there i am looking to go on a...</td>\n",
       "      <td>U21E0179B</td>\n",
       "      <td>6e67ed28-e94c-4fab-96b6-68569a92682f</td>\n",
       "      <td>{'userSurveyRating': 2.0, 'wizardSurveyTaskSuc...</td>\n",
       "    </tr>\n",
       "    <tr>\n",
       "      <th>3</th>\n",
       "      <td>U22HTHYNP</td>\n",
       "      <td>[{'text': 'Hi I'd like to go to Caprica from B...</td>\n",
       "      <td>U21DKG18C</td>\n",
       "      <td>5ae76e50-5b48-4166-9f6d-67aaabd7bcaa</td>\n",
       "      <td>{'userSurveyRating': 5.0, 'wizardSurveyTaskSuc...</td>\n",
       "    </tr>\n",
       "    <tr>\n",
       "      <th>4</th>\n",
       "      <td>U21E41CQP</td>\n",
       "      <td>[{'text': 'Hello, I am looking to book a trip ...</td>\n",
       "      <td>U21DMV0KA</td>\n",
       "      <td>24603086-bb53-431e-a0d8-1dcc63518ba9</td>\n",
       "      <td>{'userSurveyRating': 5.0, 'wizardSurveyTaskSuc...</td>\n",
       "    </tr>\n",
       "  </tbody>\n",
       "</table>\n",
       "</div>"
      ],
      "text/plain": [
       "     user_id                                              turns  wizard_id  \\\n",
       "0  U22HTHYNP  [{'text': 'I'd like to book a trip to Atlantis...  U21DKG18C   \n",
       "1  U21E41CQP  [{'text': 'Hello, I am looking to book a vacat...  U21DMV0KA   \n",
       "2  U21RP4FCY  [{'text': 'Hello there i am looking to go on a...  U21E0179B   \n",
       "3  U22HTHYNP  [{'text': 'Hi I'd like to go to Caprica from B...  U21DKG18C   \n",
       "4  U21E41CQP  [{'text': 'Hello, I am looking to book a trip ...  U21DMV0KA   \n",
       "\n",
       "                                     id  \\\n",
       "0  e2c0fc6c-2134-4891-8353-ef16d8412c9a   \n",
       "1  4a3bfa39-2c22-42c8-8694-32b4e34415e9   \n",
       "2  6e67ed28-e94c-4fab-96b6-68569a92682f   \n",
       "3  5ae76e50-5b48-4166-9f6d-67aaabd7bcaa   \n",
       "4  24603086-bb53-431e-a0d8-1dcc63518ba9   \n",
       "\n",
       "                                              labels  \n",
       "0  {'userSurveyRating': 4.0, 'wizardSurveyTaskSuc...  \n",
       "1  {'userSurveyRating': 3.0, 'wizardSurveyTaskSuc...  \n",
       "2  {'userSurveyRating': 2.0, 'wizardSurveyTaskSuc...  \n",
       "3  {'userSurveyRating': 5.0, 'wizardSurveyTaskSuc...  \n",
       "4  {'userSurveyRating': 5.0, 'wizardSurveyTaskSuc...  "
      ]
     },
     "execution_count": 5,
     "metadata": {},
     "output_type": "execute_result"
    }
   ],
   "source": [
    "data.head()"
   ]
  },
  {
   "cell_type": "code",
   "execution_count": 6,
   "id": "b8d8380a-aa7e-4ba6-96d0-bf73e058a90f",
   "metadata": {},
   "outputs": [
    {
     "data": {
      "text/plain": [
       "(1369, 5)"
      ]
     },
     "execution_count": 6,
     "metadata": {},
     "output_type": "execute_result"
    }
   ],
   "source": [
    "data.shape"
   ]
  },
  {
   "cell_type": "code",
   "execution_count": 7,
   "id": "c7278a8e-5d0b-4481-ba6c-2412b544ead8",
   "metadata": {},
   "outputs": [
    {
     "data": {
      "text/html": [
       "<div>\n",
       "<style scoped>\n",
       "    .dataframe tbody tr th:only-of-type {\n",
       "        vertical-align: middle;\n",
       "    }\n",
       "\n",
       "    .dataframe tbody tr th {\n",
       "        vertical-align: top;\n",
       "    }\n",
       "\n",
       "    .dataframe thead th {\n",
       "        text-align: right;\n",
       "    }\n",
       "</style>\n",
       "<table border=\"1\" class=\"dataframe\">\n",
       "  <thead>\n",
       "    <tr style=\"text-align: right;\">\n",
       "      <th></th>\n",
       "      <th>user_id</th>\n",
       "      <th>turns</th>\n",
       "      <th>wizard_id</th>\n",
       "      <th>id</th>\n",
       "      <th>labels</th>\n",
       "    </tr>\n",
       "  </thead>\n",
       "  <tbody>\n",
       "    <tr>\n",
       "      <th>count</th>\n",
       "      <td>1369</td>\n",
       "      <td>1369</td>\n",
       "      <td>1369</td>\n",
       "      <td>1369</td>\n",
       "      <td>1369</td>\n",
       "    </tr>\n",
       "    <tr>\n",
       "      <th>unique</th>\n",
       "      <td>11</td>\n",
       "      <td>1369</td>\n",
       "      <td>12</td>\n",
       "      <td>1369</td>\n",
       "      <td>16</td>\n",
       "    </tr>\n",
       "    <tr>\n",
       "      <th>top</th>\n",
       "      <td>U22K1SX9N</td>\n",
       "      <td>[{'text': 'I'd like to book a trip to Atlantis...</td>\n",
       "      <td>U21T9NMKM</td>\n",
       "      <td>e2c0fc6c-2134-4891-8353-ef16d8412c9a</td>\n",
       "      <td>{'userSurveyRating': 5.0, 'wizardSurveyTaskSuc...</td>\n",
       "    </tr>\n",
       "    <tr>\n",
       "      <th>freq</th>\n",
       "      <td>345</td>\n",
       "      <td>1</td>\n",
       "      <td>301</td>\n",
       "      <td>1</td>\n",
       "      <td>929</td>\n",
       "    </tr>\n",
       "  </tbody>\n",
       "</table>\n",
       "</div>"
      ],
      "text/plain": [
       "          user_id                                              turns  \\\n",
       "count        1369                                               1369   \n",
       "unique         11                                               1369   \n",
       "top     U22K1SX9N  [{'text': 'I'd like to book a trip to Atlantis...   \n",
       "freq          345                                                  1   \n",
       "\n",
       "        wizard_id                                    id  \\\n",
       "count        1369                                  1369   \n",
       "unique         12                                  1369   \n",
       "top     U21T9NMKM  e2c0fc6c-2134-4891-8353-ef16d8412c9a   \n",
       "freq          301                                     1   \n",
       "\n",
       "                                                   labels  \n",
       "count                                                1369  \n",
       "unique                                                 16  \n",
       "top     {'userSurveyRating': 5.0, 'wizardSurveyTaskSuc...  \n",
       "freq                                                  929  "
      ]
     },
     "execution_count": 7,
     "metadata": {},
     "output_type": "execute_result"
    }
   ],
   "source": [
    "data.describe(include=\"all\")"
   ]
  },
  {
   "cell_type": "markdown",
   "id": "bbd146d5-7f28-4b3e-aa96-ec0163662ee7",
   "metadata": {},
   "source": [
    "- L'ensemble de données est composé de ***1369 dialogues annotés***.\n",
    "- Ils sont composés de plusieurs tours.\n",
    "- Le dialoge est entre un robot et un utilisateur essayant de réserver un vol."
   ]
  },
  {
   "cell_type": "markdown",
   "id": "9936375d-56d8-46e2-aa57-3d03ff22b153",
   "metadata": {},
   "source": [
    "### user_id\n",
    "There are 11 unique identifier for the user taking part in the dialogue."
   ]
  },
  {
   "cell_type": "code",
   "execution_count": 8,
   "id": "f872f02e-84f5-4eae-9978-7a1732a10f44",
   "metadata": {},
   "outputs": [
    {
     "data": {
      "text/plain": [
       "['U22HTHYNP',\n",
       " 'U21E41CQP',\n",
       " 'U21RP4FCY',\n",
       " 'U231PNNA3',\n",
       " 'U2709166N',\n",
       " 'U22K1SX9N',\n",
       " 'U24V2QUKC',\n",
       " 'U23KR88NT',\n",
       " 'U23KPC9QV',\n",
       " 'U260BGVS6',\n",
       " 'U2AMZ8TLK']"
      ]
     },
     "execution_count": 8,
     "metadata": {},
     "output_type": "execute_result"
    }
   ],
   "source": [
    "list(data.user_id.unique())"
   ]
  },
  {
   "cell_type": "markdown",
   "id": "5693ffcc-b2df-4fb7-aed8-b39e22fe30da",
   "metadata": {},
   "source": [
    "### wizard_id\n",
    "There are 12 unique identifier for the wizard taking part in the dialogue."
   ]
  },
  {
   "cell_type": "code",
   "execution_count": 9,
   "id": "4dda4c62-e7cb-4abb-8498-4acff3de0aab",
   "metadata": {},
   "outputs": [
    {
     "data": {
      "text/plain": [
       "['U21DKG18C',\n",
       " 'U21DMV0KA',\n",
       " 'U21E0179B',\n",
       " 'U21E41CQP',\n",
       " 'U22HTHYNP',\n",
       " 'U1Z7FQTHC',\n",
       " 'U21T9NMKM',\n",
       " 'U23KR88NT',\n",
       " 'U23KS7P33',\n",
       " 'U23KPC9QV',\n",
       " 'U260BGVS6',\n",
       " 'U28KSAJBY']"
      ]
     },
     "execution_count": 9,
     "metadata": {},
     "output_type": "execute_result"
    }
   ],
   "source": [
    "list(data.wizard_id.unique())"
   ]
  },
  {
   "cell_type": "markdown",
   "id": "28d8ac18-e228-488c-8037-39a225514d71",
   "metadata": {},
   "source": [
    "### labels\n",
    "- ***userSurveyRating***: A value that represents the user’s satisfaction with the Wizard’s service, ranging from 1 – complete dissatisfaction to 5 – complete satisfaction.\n",
    "- ***wizardSurveyTaskSuccessful***: A boolean which is true if the wizard thinks at the end of the dialogue that the user’s goal was achieved."
   ]
  },
  {
   "cell_type": "code",
   "execution_count": 10,
   "id": "fd27f76e-8871-4dba-a174-7a11166ac38d",
   "metadata": {},
   "outputs": [
    {
     "data": {
      "text/plain": [
       "{'userSurveyRating': 4.0, 'wizardSurveyTaskSuccessful': True}"
      ]
     },
     "execution_count": 10,
     "metadata": {},
     "output_type": "execute_result"
    }
   ],
   "source": [
    "data.labels[0]"
   ]
  },
  {
   "cell_type": "code",
   "execution_count": 11,
   "id": "266c0352-25b2-4513-b5f8-7bebfdf69a34",
   "metadata": {},
   "outputs": [],
   "source": [
    "labels = pd.json_normalize(data.labels)"
   ]
  },
  {
   "cell_type": "code",
   "execution_count": 12,
   "id": "61f4a87b-ca53-4f17-b974-b79721e313b3",
   "metadata": {},
   "outputs": [],
   "source": [
    "labels = labels.astype(\n",
    "    {\"userSurveyRating\": \"float\", \"wizardSurveyTaskSuccessful\": \"bool\"}\n",
    ")"
   ]
  },
  {
   "cell_type": "code",
   "execution_count": 13,
   "id": "46055227-295a-4f3f-b557-5185c6ddb619",
   "metadata": {},
   "outputs": [
    {
     "data": {
      "text/plain": [
       "['userSurveyRating', 'wizardSurveyTaskSuccessful']"
      ]
     },
     "execution_count": 13,
     "metadata": {},
     "output_type": "execute_result"
    }
   ],
   "source": [
    "list(labels.columns)"
   ]
  },
  {
   "cell_type": "code",
   "execution_count": 14,
   "id": "b91f6cdc-d1f5-484c-bfdd-4cc292040a51",
   "metadata": {},
   "outputs": [
    {
     "data": {
      "text/plain": [
       "count    1366.000000\n",
       "mean        4.573419\n",
       "std         0.839596\n",
       "min         1.000000\n",
       "25%         4.000000\n",
       "50%         5.000000\n",
       "75%         5.000000\n",
       "max         5.000000\n",
       "Name: userSurveyRating, dtype: float64"
      ]
     },
     "execution_count": 14,
     "metadata": {},
     "output_type": "execute_result"
    }
   ],
   "source": [
    "labels.userSurveyRating.describe()"
   ]
  },
  {
   "cell_type": "code",
   "execution_count": 15,
   "id": "fa80ed25-2127-4fd6-a8b9-a668fc3a13ec",
   "metadata": {},
   "outputs": [
    {
     "data": {
      "text/plain": [
       "array([4.  , 3.  , 2.  , 5.  , 1.  ,  nan, 4.8 , 4.5 , 4.99, 3.5 ])"
      ]
     },
     "execution_count": 15,
     "metadata": {},
     "output_type": "execute_result"
    }
   ],
   "source": [
    "labels.userSurveyRating.unique()"
   ]
  },
  {
   "cell_type": "markdown",
   "id": "9415578f-489b-4e8a-b779-831648ca5f8b",
   "metadata": {},
   "source": [
    "<span style=\"color:red\">\n",
    "TODO: We observe values as nan, 4.8, 4.5, 4.99, 3.5. Theese values must be investigated for cleaning the dataset.\n",
    "</span>"
   ]
  },
  {
   "cell_type": "code",
   "execution_count": 16,
   "id": "7c96e943-3055-40f3-a9ec-900da7860d69",
   "metadata": {},
   "outputs": [
    {
     "data": {
      "image/png": "[encoded data removed]",
      "text/plain": [
       "<Figure size 640x480 with 1 Axes>"
      ]
     },
     "metadata": {},
     "output_type": "display_data"
    }
   ],
   "source": [
    "labels.userSurveyRating.value_counts().plot.bar()\n",
    "plt.xlabel(\"Valeurs uniques\")\n",
    "plt.ylabel(\"Nombre d'occurrences\")\n",
    "plt.title(\"label: userSurveyRating\")\n",
    "plt.show()"
   ]
  },
  {
   "cell_type": "markdown",
   "id": "ae5202a2-4f68-4ca0-ad09-dfcc42623567",
   "metadata": {},
   "source": [
    "En moyenne l'utilisateur a bien noté le chatbot."
   ]
  },
  {
   "cell_type": "code",
   "execution_count": 17,
   "id": "06aefa35-425f-4297-8713-4e52c16a1dfd",
   "metadata": {},
   "outputs": [
    {
     "data": {
      "text/plain": [
       "True     1287\n",
       "False      82\n",
       "Name: wizardSurveyTaskSuccessful, dtype: int64"
      ]
     },
     "execution_count": 17,
     "metadata": {},
     "output_type": "execute_result"
    }
   ],
   "source": [
    "labels.wizardSurveyTaskSuccessful.value_counts()"
   ]
  },
  {
   "cell_type": "markdown",
   "id": "c518600b-3eb6-4b4f-a504-8e1722898cf2",
   "metadata": {},
   "source": [
    "82 comunication avec le chatbot n'a pas aider l'utilisateur."
   ]
  },
  {
   "cell_type": "code",
   "execution_count": 18,
   "id": "6723825c-c342-490c-854c-2770448631a7",
   "metadata": {},
   "outputs": [
    {
     "data": {
      "image/png": "[encoded data removed]",
      "text/plain": [
       "<Figure size 640x480 with 1 Axes>"
      ]
     },
     "metadata": {},
     "output_type": "display_data"
    }
   ],
   "source": [
    "labels.wizardSurveyTaskSuccessful.value_counts().plot.bar()\n",
    "plt.xlabel(\"Valeurs uniques\")\n",
    "plt.ylabel(\"Nombre d'occurrences\")\n",
    "plt.title(\"label: wizardSurveyTaskSuccessful\")\n",
    "plt.show()"
   ]
  },
  {
   "cell_type": "markdown",
   "id": "e1acbfa3-d354-48c5-bfac-fec521a90b50",
   "metadata": {},
   "source": [
    "### turns\n",
    "- author: The author of the message in a dialogue. i.e. “user” or “wizard”.\n",
    "- text: The sentence that the author uttered. It is the exact text that the author of a turn said. E.g. “text”: “Consider it done. Have a great trip!”.\n",
    "- labels: JSON object which has three keys: \n",
    "    - active_frame: id of the currently active frame.\n",
    "    - acts: the dialogue acts for the current utterance. Each act has a **name** and arguments **args**.\n",
    "        - name: name of the dialogue act (offer or inform)\n",
    "        - args: contain the optional slot types (key) and slot values (val).\n",
    "    An act contains a ref tag whenever a user or wizard refers to a past frame. \n",
    "    - acts_without_refs: similar to the acts except that they do not have these ref tags.\n",
    "    We define the frame tracking task as the task that takes as input the acts_without_refs and outputs the acts.\n",
    "- timestamp: Unix timestamp denoting the time at which the current turn occurred.\n",
    "- frames: List of frames up to the current turn. Each frame has the following keys: frame_id, frame_parent_id, requests, binary_questions, compare_requests, and info.\n",
    "- db: It can only occur during a wizard’s turn. It is a list of search queries made by the wizard with the associated list of search results. E.g. “db”: {“search”: [{“ORIGIN_CITY”: “Montreal”}], “result”: []}"
   ]
  },
  {
   "cell_type": "code",
   "execution_count": 19,
   "id": "17b5eaab-549c-4b4c-9d36-d776b37a66e1",
   "metadata": {},
   "outputs": [
    {
     "data": {
      "text/plain": [
       "0       [{'text': 'I'd like to book a trip to Atlantis...\n",
       "1       [{'text': 'Hello, I am looking to book a vacat...\n",
       "2       [{'text': 'Hello there i am looking to go on a...\n",
       "3       [{'text': 'Hi I'd like to go to Caprica from B...\n",
       "4       [{'text': 'Hello, I am looking to book a trip ...\n",
       "                              ...                        \n",
       "1364    [{'text': 'Hi I've got 9 days free and I'm loo...\n",
       "1365    [{'text': 'I need to get to Fortaleza on Septe...\n",
       "1366    [{'text': 'We're finally going on vacation isn...\n",
       "1367    [{'text': 'Hi there, I'm looking for a place t...\n",
       "1368    [{'text': 'I need to book a trip for the whole...\n",
       "Name: turns, Length: 1369, dtype: object"
      ]
     },
     "execution_count": 19,
     "metadata": {},
     "output_type": "execute_result"
    }
   ],
   "source": [
    "#data.turns[discussion number][index_discusion][dictionary_values: author, text...]\n",
    "data.turns"
   ]
  },
  {
   "cell_type": "markdown",
   "id": "aeb36be6-2eb0-4970-95ae-e7b35f08b9aa",
   "metadata": {},
   "source": [
    "Let us look only for the first first turn, in order to understand it better."
   ]
  },
  {
   "cell_type": "code",
   "execution_count": 20,
   "id": "41b3e6fe-ce3a-49e4-8b57-d65215c1ea73",
   "metadata": {},
   "outputs": [],
   "source": [
    "first_turn = data.turns[0]"
   ]
  },
  {
   "cell_type": "code",
   "execution_count": 21,
   "id": "200ead18-d1d1-44f1-9924-2451d0cd30d0",
   "metadata": {},
   "outputs": [
    {
     "data": {
      "text/plain": [
       "'user'"
      ]
     },
     "execution_count": 21,
     "metadata": {},
     "output_type": "execute_result"
    }
   ],
   "source": [
    "first_turn[0]['author']"
   ]
  },
  {
   "cell_type": "code",
   "execution_count": 22,
   "id": "d462932c-85d4-4f15-a2b3-abadd9c510b9",
   "metadata": {},
   "outputs": [
    {
     "data": {
      "text/plain": [
       "'wizard'"
      ]
     },
     "execution_count": 22,
     "metadata": {},
     "output_type": "execute_result"
    }
   ],
   "source": [
    "first_turn[1]['author']"
   ]
  },
  {
   "cell_type": "code",
   "execution_count": 23,
   "id": "2318efc8-d235-4358-9b29-2f7d17ecbcb5",
   "metadata": {},
   "outputs": [
    {
     "data": {
      "text/plain": [
       "\"I'd like to book a trip to Atlantis from Caprica on Saturday, August 13, 2016 for 8 adults. I have a tight budget of 1700.\""
      ]
     },
     "execution_count": 23,
     "metadata": {},
     "output_type": "execute_result"
    }
   ],
   "source": [
    "first_turn[0]['text']"
   ]
  },
  {
   "cell_type": "code",
   "execution_count": 24,
   "id": "297bb73e-88f0-4079-bd7f-51a2cc6f04a3",
   "metadata": {},
   "outputs": [
    {
     "data": {
      "text/plain": [
       "'Hi...I checked a few options for you, and unfortunately, we do not currently have any trips that meet this criteria.  Would you like to book an alternate travel option?'"
      ]
     },
     "execution_count": 24,
     "metadata": {},
     "output_type": "execute_result"
    }
   ],
   "source": [
    "first_turn[1]['text']"
   ]
  },
  {
   "cell_type": "markdown",
   "id": "5dcb10ea-c386-4c1c-a1ca-a36a67a524e2",
   "metadata": {},
   "source": [
    "The turn consists of the discussion between a user and a wizzard."
   ]
  },
  {
   "cell_type": "code",
   "execution_count": 25,
   "id": "c00d6d04-7217-4acf-966e-cd0a4b091d98",
   "metadata": {},
   "outputs": [
    {
     "data": {
      "text/plain": [
       "{'acts': [{'args': [{'val': 'book', 'key': 'intent'}], 'name': 'inform'},\n",
       "  {'args': [{'val': 'Atlantis', 'key': 'dst_city'},\n",
       "    {'val': 'Caprica', 'key': 'or_city'},\n",
       "    {'val': 'Saturday, August 13, 2016', 'key': 'str_date'},\n",
       "    {'val': '8', 'key': 'n_adults'},\n",
       "    {'val': '1700', 'key': 'budget'}],\n",
       "   'name': 'inform'}],\n",
       " 'acts_without_refs': [{'args': [{'val': 'book', 'key': 'intent'}],\n",
       "   'name': 'inform'},\n",
       "  {'args': [{'val': 'Atlantis', 'key': 'dst_city'},\n",
       "    {'val': 'Caprica', 'key': 'or_city'},\n",
       "    {'val': 'Saturday, August 13, 2016', 'key': 'str_date'},\n",
       "    {'val': '8', 'key': 'n_adults'},\n",
       "    {'val': '1700', 'key': 'budget'}],\n",
       "   'name': 'inform'}],\n",
       " 'active_frame': 1,\n",
       " 'frames': [{'info': {'intent': [{'val': 'book', 'negated': False}],\n",
       "    'budget': [{'val': '1700.0', 'negated': False}],\n",
       "    'dst_city': [{'val': 'Atlantis', 'negated': False}],\n",
       "    'or_city': [{'val': 'Caprica', 'negated': False}],\n",
       "    'str_date': [{'val': 'august 13', 'negated': False}],\n",
       "    'n_adults': [{'val': '8', 'negated': False}]},\n",
       "   'frame_id': 1,\n",
       "   'requests': [],\n",
       "   'frame_parent_id': None,\n",
       "   'binary_questions': [],\n",
       "   'compare_requests': []}]}"
      ]
     },
     "execution_count": 25,
     "metadata": {},
     "output_type": "execute_result"
    }
   ],
   "source": [
    "first_turn[0]['labels']"
   ]
  },
  {
   "cell_type": "code",
   "execution_count": 26,
   "id": "3efd93b4-a053-4672-8417-1ef942a45de5",
   "metadata": {},
   "outputs": [
    {
     "data": {
      "text/plain": [
       "[{'args': [{'val': 'book', 'key': 'intent'}], 'name': 'inform'},\n",
       " {'args': [{'val': 'Atlantis', 'key': 'dst_city'},\n",
       "   {'val': 'Caprica', 'key': 'or_city'},\n",
       "   {'val': 'Saturday, August 13, 2016', 'key': 'str_date'},\n",
       "   {'val': '8', 'key': 'n_adults'},\n",
       "   {'val': '1700', 'key': 'budget'}],\n",
       "  'name': 'inform'}]"
      ]
     },
     "execution_count": 26,
     "metadata": {},
     "output_type": "execute_result"
    }
   ],
   "source": [
    "first_turn[0]['labels']['acts']"
   ]
  },
  {
   "cell_type": "code",
   "execution_count": 27,
   "id": "aa410177-8064-45c7-afe8-ff872581adbd",
   "metadata": {},
   "outputs": [
    {
     "data": {
      "text/plain": [
       "{'intent': [{'val': 'book', 'negated': False}],\n",
       " 'budget': [{'val': '1700.0', 'negated': False}],\n",
       " 'dst_city': [{'val': 'Atlantis', 'negated': False}],\n",
       " 'or_city': [{'val': 'Caprica', 'negated': False}],\n",
       " 'str_date': [{'val': 'august 13', 'negated': False}],\n",
       " 'n_adults': [{'val': '8', 'negated': False}],\n",
       " 'NO_RESULT': [{'val': True, 'negated': False}]}"
      ]
     },
     "execution_count": 27,
     "metadata": {},
     "output_type": "execute_result"
    }
   ],
   "source": [
    "first_turn[1]['labels']['frames'][0]['info']"
   ]
  },
  {
   "cell_type": "code",
   "execution_count": 28,
   "id": "773aaee4-31cb-499c-8f43-1c39bbc57332",
   "metadata": {},
   "outputs": [
    {
     "data": {
      "text/plain": [
       "1471272019730.0"
      ]
     },
     "execution_count": 28,
     "metadata": {},
     "output_type": "execute_result"
    }
   ],
   "source": [
    "first_turn[0]['timestamp']"
   ]
  },
  {
   "cell_type": "code",
   "execution_count": 29,
   "id": "3b4db05e-0543-41b9-b05b-38b940558391",
   "metadata": {},
   "outputs": [
    {
     "data": {
      "text/plain": [
       "1471272381399.0"
      ]
     },
     "execution_count": 29,
     "metadata": {},
     "output_type": "execute_result"
    }
   ],
   "source": [
    "first_turn[1]['timestamp']"
   ]
  },
  {
   "cell_type": "code",
   "execution_count": 30,
   "id": "c9831ec7-761e-4011-9c78-0c95a21abd85",
   "metadata": {},
   "outputs": [
    {
     "data": {
      "text/plain": [
       "{'result': [[{'trip': {'returning': {'duration': {'hours': 0, 'min': 51},\n",
       "      'arrival': {'hour': 10, 'year': 2016, 'day': 24, 'min': 51, 'month': 8},\n",
       "      'departure': {'hour': 10,\n",
       "       'year': 2016,\n",
       "       'day': 24,\n",
       "       'min': 0,\n",
       "       'month': 8}},\n",
       "     'seat': 'ECONOMY',\n",
       "     'leaving': {'duration': {'hours': 0, 'min': 51},\n",
       "      'arrival': {'hour': 0, 'year': 2016, 'day': 16, 'min': 51, 'month': 8},\n",
       "      'departure': {'hour': 0, 'year': 2016, 'day': 16, 'min': 0, 'month': 8}},\n",
       "     'or_city': 'Porto Alegre',\n",
       "     'duration_days': 9},\n",
       "    'price': 2118.81,\n",
       "    'hotel': {'gst_rating': 7.15,\n",
       "     'vicinity': [],\n",
       "     'name': 'Scarlet Palms Resort',\n",
       "     'country': 'Brazil',\n",
       "     'amenities': ['FREE_BREAKFAST', 'FREE_PARKING', 'FREE_WIFI'],\n",
       "     'dst_city': 'Goiania',\n",
       "     'category': '3.5 star hotel'}},\n",
       "   {'trip': {'returning': {'duration': {'hours': 2, 'min': 37},\n",
       "      'arrival': {'hour': 12, 'year': 2016, 'day': 10, 'min': 37, 'month': 8},\n",
       "      'departure': {'hour': 10,\n",
       "       'year': 2016,\n",
       "       'day': 10,\n",
       "       'min': 0,\n",
       "       'month': 8}},\n",
       "     'seat': 'ECONOMY',\n",
       "     'leaving': {'duration': {'hours': 2, 'min': 37},\n",
       "      'arrival': {'hour': 0, 'year': 2016, 'day': 4, 'min': 37, 'month': 8},\n",
       "      'departure': {'hour': 22, 'year': 2016, 'day': 3, 'min': 0, 'month': 8}},\n",
       "     'or_city': 'Porto Alegre',\n",
       "     'duration_days': 7},\n",
       "    'price': 2369.83,\n",
       "    'hotel': {'gst_rating': 0,\n",
       "     'vicinity': [],\n",
       "     'name': 'Sunway Hostel',\n",
       "     'country': 'Argentina',\n",
       "     'amenities': ['FREE_BREAKFAST', 'FREE_WIFI'],\n",
       "     'dst_city': 'Rosario',\n",
       "     'category': '2.0 star hotel'}},\n",
       "   {'trip': {'returning': {'duration': {'hours': 0, 'min': 51},\n",
       "      'arrival': {'hour': 10, 'year': 2016, 'day': 24, 'min': 51, 'month': 8},\n",
       "      'departure': {'hour': 10,\n",
       "       'year': 2016,\n",
       "       'day': 24,\n",
       "       'min': 0,\n",
       "       'month': 8}},\n",
       "     'seat': 'BUSINESS',\n",
       "     'leaving': {'duration': {'hours': 0, 'min': 51},\n",
       "      'arrival': {'hour': 0, 'year': 2016, 'day': 16, 'min': 51, 'month': 8},\n",
       "      'departure': {'hour': 0, 'year': 2016, 'day': 16, 'min': 0, 'month': 8}},\n",
       "     'or_city': 'Porto Alegre',\n",
       "     'duration_days': 9},\n",
       "    'price': 2375.72,\n",
       "    'hotel': {'gst_rating': 7.15,\n",
       "     'vicinity': [],\n",
       "     'name': 'Scarlet Palms Resort',\n",
       "     'country': 'Brazil',\n",
       "     'amenities': ['FREE_BREAKFAST', 'FREE_PARKING', 'FREE_WIFI'],\n",
       "     'dst_city': 'Goiania',\n",
       "     'category': '3.5 star hotel'}},\n",
       "   {'trip': {'returning': {'duration': {'hours': 1, 'min': 30},\n",
       "      'arrival': {'hour': 11, 'year': 2016, 'day': 1, 'min': 30, 'month': 9},\n",
       "      'departure': {'hour': 10, 'year': 2016, 'day': 1, 'min': 0, 'month': 9}},\n",
       "     'seat': 'BUSINESS',\n",
       "     'leaving': {'duration': {'hours': 1, 'min': 30},\n",
       "      'arrival': {'hour': 18, 'year': 2016, 'day': 19, 'min': 30, 'month': 8},\n",
       "      'departure': {'hour': 17,\n",
       "       'year': 2016,\n",
       "       'day': 19,\n",
       "       'min': 0,\n",
       "       'month': 8}},\n",
       "     'or_city': 'Porto Alegre',\n",
       "     'duration_days': 13},\n",
       "    'price': 2492.95,\n",
       "    'hotel': {'gst_rating': 0,\n",
       "     'vicinity': [],\n",
       "     'name': 'Hotel Mundo',\n",
       "     'country': 'Brazil',\n",
       "     'amenities': ['FREE_BREAKFAST', 'FREE_WIFI', 'FREE_PARKING'],\n",
       "     'dst_city': 'Manaus',\n",
       "     'category': '2.5 star hotel'}},\n",
       "   {'trip': {'returning': {'duration': {'hours': 0, 'min': 51},\n",
       "      'arrival': {'hour': 10, 'year': 2016, 'day': 31, 'min': 51, 'month': 8},\n",
       "      'departure': {'hour': 10,\n",
       "       'year': 2016,\n",
       "       'day': 31,\n",
       "       'min': 0,\n",
       "       'month': 8}},\n",
       "     'seat': 'ECONOMY',\n",
       "     'leaving': {'duration': {'hours': 0, 'min': 51},\n",
       "      'arrival': {'hour': 19, 'year': 2016, 'day': 27, 'min': 51, 'month': 8},\n",
       "      'departure': {'hour': 19,\n",
       "       'year': 2016,\n",
       "       'day': 27,\n",
       "       'min': 0,\n",
       "       'month': 8}},\n",
       "     'or_city': 'Porto Alegre',\n",
       "     'duration_days': 4},\n",
       "    'price': 2538.0,\n",
       "    'hotel': {'gst_rating': 8.22,\n",
       "     'vicinity': [],\n",
       "     'name': 'The Glee',\n",
       "     'country': 'Brazil',\n",
       "     'amenities': ['FREE_BREAKFAST', 'FREE_WIFI'],\n",
       "     'dst_city': 'Recife',\n",
       "     'category': '4.0 star hotel'}}],\n",
       "  [],\n",
       "  [],\n",
       "  [],\n",
       "  [],\n",
       "  [],\n",
       "  []],\n",
       " 'search': [{'ORIGIN_CITY': 'Porto Alegre',\n",
       "   'PRICE_MIN': '2000',\n",
       "   'NUM_ADULTS': '2',\n",
       "   'timestamp': 1471271949.995,\n",
       "   'PRICE_MAX': '3000',\n",
       "   'ARE_DATES_FLEXIBLE': 'true',\n",
       "   'NUM_CHILDREN': '5',\n",
       "   'START_TIME': '1470110400000',\n",
       "   'MAX_DURATION': 2592000000.0,\n",
       "   'DESTINATION_CITY': 'Brazil',\n",
       "   'RESULT_LIMIT': '10',\n",
       "   'END_TIME': '1472616000000'},\n",
       "  {'ORIGIN_CITY': 'Atlantis',\n",
       "   'NUM_ADULTS': '8',\n",
       "   'RESULT_LIMIT': '10',\n",
       "   'timestamp': 1471272148.124,\n",
       "   'PRICE_MAX': '1700',\n",
       "   'NUM_CHILDREN': '',\n",
       "   'ARE_DATES_FLEXIBLE': 'true',\n",
       "   'START_TIME': 'NaN',\n",
       "   'END_TIME': 'NaN'},\n",
       "  {'ORIGIN_CITY': 'Caprica',\n",
       "   'PRICE_MAX': '1700',\n",
       "   'NUM_ADULTS': '8',\n",
       "   'RESULT_LIMIT': '10',\n",
       "   'timestamp': 1471272189.07,\n",
       "   'DESTINATION_CITY': 'Atlantis',\n",
       "   'NUM_CHILDREN': '',\n",
       "   'ARE_DATES_FLEXIBLE': 'true',\n",
       "   'START_TIME': '1470715200000',\n",
       "   'END_TIME': '1472011200000'},\n",
       "  {'ORIGIN_CITY': 'Caprica',\n",
       "   'PRICE_MAX': '1700',\n",
       "   'NUM_ADULTS': '8',\n",
       "   'RESULT_LIMIT': '10',\n",
       "   'timestamp': 1471272205.436,\n",
       "   'DESTINATION_CITY': 'Atlantis',\n",
       "   'NUM_CHILDREN': '',\n",
       "   'ARE_DATES_FLEXIBLE': 'true',\n",
       "   'START_TIME': '1470715200000',\n",
       "   'END_TIME': '1472011200000'},\n",
       "  {'ORIGIN_CITY': 'Caprica',\n",
       "   'PRICE_MIN': '1700',\n",
       "   'NUM_ADULTS': '8',\n",
       "   'RESULT_LIMIT': '10',\n",
       "   'timestamp': 1471272278.72,\n",
       "   'DESTINATION_CITY': 'Atlantis',\n",
       "   'NUM_CHILDREN': '',\n",
       "   'ARE_DATES_FLEXIBLE': 'true',\n",
       "   'START_TIME': '1470715200000',\n",
       "   'END_TIME': '1472011200000'},\n",
       "  {'ORIGIN_CITY': 'Caprica',\n",
       "   'PRICE_MIN': '1700',\n",
       "   'NUM_ADULTS': '8',\n",
       "   'RESULT_LIMIT': '10',\n",
       "   'timestamp': 1471272454.542,\n",
       "   'DESTINATION_CITY': 'Atlantis',\n",
       "   'NUM_CHILDREN': '',\n",
       "   'ARE_DATES_FLEXIBLE': 'true',\n",
       "   'START_TIME': '1471060800000',\n",
       "   'END_TIME': '1472011200000'},\n",
       "  {'ORIGIN_CITY': 'Caprica',\n",
       "   'PRICE_MIN': '1700',\n",
       "   'NUM_ADULTS': '8',\n",
       "   'RESULT_LIMIT': '10',\n",
       "   'timestamp': 1471272466.008,\n",
       "   'DESTINATION_CITY': 'Atlantis',\n",
       "   'NUM_CHILDREN': '',\n",
       "   'ARE_DATES_FLEXIBLE': 'true',\n",
       "   'START_TIME': '1471060800000',\n",
       "   'END_TIME': '1472011200000'}]}"
      ]
     },
     "execution_count": 30,
     "metadata": {},
     "output_type": "execute_result"
    }
   ],
   "source": [
    "first_turn[1]['db']"
   ]
  },
  {
   "cell_type": "markdown",
   "id": "3d91423d-aeef-4286-b4bb-d125a8ed0fc4",
   "metadata": {},
   "source": [
    "Reading and understanding turns:"
   ]
  },
  {
   "cell_type": "code",
   "execution_count": 31,
   "id": "8e40a2e5-7d13-4b63-8f7f-7141a131e168",
   "metadata": {},
   "outputs": [
    {
     "data": {
      "text/plain": [
       "0       [{'text': 'I'd like to book a trip to Atlantis...\n",
       "1       [{'text': 'Hello, I am looking to book a vacat...\n",
       "2       [{'text': 'Hello there i am looking to go on a...\n",
       "3       [{'text': 'Hi I'd like to go to Caprica from B...\n",
       "4       [{'text': 'Hello, I am looking to book a trip ...\n",
       "                              ...                        \n",
       "1364    [{'text': 'Hi I've got 9 days free and I'm loo...\n",
       "1365    [{'text': 'I need to get to Fortaleza on Septe...\n",
       "1366    [{'text': 'We're finally going on vacation isn...\n",
       "1367    [{'text': 'Hi there, I'm looking for a place t...\n",
       "1368    [{'text': 'I need to book a trip for the whole...\n",
       "Name: turns, Length: 1369, dtype: object"
      ]
     },
     "execution_count": 31,
     "metadata": {},
     "output_type": "execute_result"
    }
   ],
   "source": [
    "data['turns']"
   ]
  },
  {
   "cell_type": "markdown",
   "id": "ff1b59b9-3dfa-4faf-9fe3-a6e33178e897",
   "metadata": {},
   "source": [
    "Les clés qui nous intéresse dans le cadre de ce MVP sont :\n",
    "\n",
    " - `or_city` (Ville de départ)\n",
    " - `dst_city` (Ville de destination)\n",
    " - `str_date` (Date aller souhaitée du vol)\n",
    " - `end_date` (Date retour souhaitée du vol)\n",
    " - `budget` (Budget maximum pour le prix total des billets)"
   ]
  },
  {
   "cell_type": "code",
   "execution_count": 32,
   "id": "8fa1b3bd-0b8e-454f-8f67-02a73a253384",
   "metadata": {},
   "outputs": [
    {
     "data": {
      "text/plain": [
       "{'intent': [{'val': 'book', 'negated': False}],\n",
       " 'budget': [{'val': '1700.0', 'negated': False}],\n",
       " 'dst_city': [{'val': 'Atlantis', 'negated': False}],\n",
       " 'or_city': [{'val': 'Caprica', 'negated': True}],\n",
       " 'str_date': [{'val': 'august 13', 'negated': False}],\n",
       " 'n_adults': [{'val': '8', 'negated': False}]}"
      ]
     },
     "execution_count": 32,
     "metadata": {},
     "output_type": "execute_result"
    }
   ],
   "source": [
    "data.turns[0][6]['labels']['frames'][0]['info']"
   ]
  },
  {
   "cell_type": "code",
   "execution_count": 33,
   "id": "a829ce8c-2f9d-422d-87ee-2b1740f1b5ac",
   "metadata": {},
   "outputs": [
    {
     "name": "stdout",
     "output_type": "stream",
     "text": [
      "\n",
      "DISCUSION # 0\n",
      "\n",
      "0 - user says : \n",
      "\"I'd like to book a trip to Atlantis from Caprica on Saturday, August 13, 2016 for 8 adults. I have a tight budget of 1700.\"\n",
      "Known facts : \n",
      "{'intent': 'book', 'budget': '1700.0', 'dst_city': 'Atlantis', 'or_city': 'Caprica', 'str_date': 'august 13', 'n_adults': '8'}\n",
      "\n",
      "1 - wizard says : \n",
      "\"Hi...I checked a few options for you, and unfortunately, we do not currently have any trips that meet this criteria.  Would you like to book an alternate travel option?\"\n",
      "Known facts : \n",
      "{'intent': 'book', 'budget': '1700.0', 'dst_city': 'Atlantis', 'or_city': 'Caprica', 'str_date': 'august 13', 'n_adults': '8', 'NO_RESULT': True}\n",
      "\n",
      "2 - user says : \n",
      "\"Yes, how about going to Neverland from Caprica on August 13, 2016 for 5 adults. For this trip, my budget would be 1900.\"\n",
      "Known facts : \n",
      "{'intent': 'book', 'budget': '1900.0', 'dst_city': 'Neverland', 'or_city': 'Caprica', 'str_date': 'august 13', 'n_adults': '5', 'NO_RESULT': True}\n",
      "\n",
      "3 - wizard says : \n",
      "\"I checked the availability for this date and there were no trips available.  Would you like to select some alternate dates?\"\n",
      "Known facts : \n",
      "{'intent': 'book', 'budget': '1900.0', 'dst_city': 'Neverland', 'or_city': 'Caprica', 'str_date': 'august 13', 'n_adults': '5', 'NO_RESULT': True}\n",
      "\n",
      "4 - user says : \n",
      "\"I have no flexibility for dates... but I can leave from Atlantis rather than Caprica. How about that?\"\n",
      "Known facts : \n",
      "{'intent': 'book', 'budget': '1700.0', 'dst_city': 'Atlantis', 'or_city': 'Atlantis', 'str_date': 'august 13', 'n_adults': '8', 'NO_RESULT': True, 'flex': False}\n",
      "\n",
      "5 - wizard says : \n",
      "\"I checked the availability for that date and there were no trips available.  Would you like to select some alternate dates?\"\n",
      "Known facts : \n",
      "{'intent': 'book', 'budget': '1700.0', 'dst_city': 'Atlantis', 'or_city': 'Atlantis', 'str_date': 'august 13', 'n_adults': '8', 'NO_RESULT': True, 'flex': False}\n",
      "\n",
      "6 - user says : \n",
      "\"I suppose I'll speak with my husband to see if we can choose other dates, and then I'll come back to you.Thanks for your help\"\n",
      "Known facts : \n",
      "{'intent': 'book', 'budget': '1700.0', 'dst_city': 'Atlantis', 'or_city': 'Atlantis', 'str_date': 'august 13', 'n_adults': '8', 'NO_RESULT': True, 'flex': False}\n",
      "\n"
     ]
    }
   ],
   "source": [
    "# Boucle sur les tours de la donnée brute\n",
    "for index, turn in enumerate(data.loc[0:0,\"turns\"]):\n",
    "    # turn est une discution entre une utilisateur et une wizard\n",
    "    # Imprimer une ligne vide\n",
    "    print()\n",
    "    print(\"DISCUSION # {0}\".format(index))\n",
    "    print()\n",
    "\n",
    "    # Initialiser un dictionnaire pour les faits connus\n",
    "    known_facts = {}\n",
    "\n",
    "    # Boucle sur les messages de chaque tour\n",
    "    for i, frame in enumerate(turn):\n",
    "        # Imprimer l'auteur et le texte du message\n",
    "        print(f'{i} - { frame[\"author\"] } says : \\n\"{ frame[\"text\"] }\"')\n",
    "\n",
    "        # Mettre à jour les faits connus avec les nouvelles informations\n",
    "        # Boucle sur les frames dans les messages\n",
    "        for f in frame[\"labels\"][\"frames\"]:\n",
    "            # Boucle sur les informations dans chaque frame\n",
    "            for info_key, info in f[\"info\"].items():\n",
    "                # Si la valeur n'est pas négative, ajouter l'info_key et la dernière valeur à known_facts\n",
    "                if not info[-1][\"negated\"]:\n",
    "                    known_facts[info_key] = info[-1][\"val\"]\n",
    "                # Si la valeur est négative, ajouter l'info_key à known_facts avec None comme valeur\n",
    "                else:\n",
    "                    known_facts[info_key] = None\n",
    "\n",
    "\n",
    "        # Imprimer les faits connus\n",
    "        print(f\"Known facts : \\n{known_facts}\")\n",
    "        print()"
   ]
  },
  {
   "cell_type": "code",
   "execution_count": 34,
   "id": "7500c47c",
   "metadata": {},
   "outputs": [],
   "source": [
    "import importlib\n",
    "import utils as ult\n",
    "\n",
    "importlib.reload(ult)\n",
    "\n",
    "extractor = utl.UtteranceExtractor(data.turns)\n",
    "extractor.extract()"
   ]
  },
  {
   "cell_type": "code",
   "execution_count": 35,
   "id": "698ca038",
   "metadata": {},
   "outputs": [
    {
     "data": {
      "text/plain": [
       "4376"
      ]
     },
     "execution_count": 35,
     "metadata": {},
     "output_type": "execute_result"
    }
   ],
   "source": [
    "len(extractor.utterances)"
   ]
  },
  {
   "cell_type": "code",
   "execution_count": 36,
   "id": "86fe17e0",
   "metadata": {},
   "outputs": [
    {
     "data": {
      "text/plain": [
       "{'text': \"I'd like to book a trip to Atlantis from Caprica on Saturday, August 13, 2016 for 8 adults. I have a tight budget of 1700.\",\n",
       " 'intent_name': 'BookFlight',\n",
       " 'entity_labels': [{'entity_name': 'dst_city',\n",
       "   'start_char_index': 27,\n",
       "   'end_char_index': 35},\n",
       "  {'entity_name': 'or_city', 'start_char_index': 41, 'end_char_index': 48},\n",
       "  {'entity_name': 'str_date', 'start_char_index': 52, 'end_char_index': 77},\n",
       "  {'entity_name': 'budget', 'start_char_index': 117, 'end_char_index': 121}]}"
      ]
     },
     "execution_count": 36,
     "metadata": {},
     "output_type": "execute_result"
    }
   ],
   "source": [
    "extractor.utterances[0]"
   ]
  },
  {
   "cell_type": "code",
   "execution_count": 37,
   "id": "208b72e5",
   "metadata": {},
   "outputs": [
    {
     "data": {
      "text/plain": [
       "{'dst_city': 'Atlantis',\n",
       " 'or_city': 'Caprica',\n",
       " 'str_date': 'Saturday, August 13, 2016',\n",
       " 'budget': '1700'}"
      ]
     },
     "execution_count": 37,
     "metadata": {},
     "output_type": "execute_result"
    }
   ],
   "source": [
    "# Getting the true labels from one utterace\n",
    "id_utt = 0\n",
    "y = extractor.getEntitiesFromUtterances(0)\n",
    "y"
   ]
  },
  {
   "cell_type": "code",
   "execution_count": 38,
   "id": "98a433a6",
   "metadata": {},
   "outputs": [
    {
     "data": {
      "text/plain": [
       "{'text': \"I'd like to book a trip to Atlantis from Caprica on Saturday, August 13, 2016 for 8 adults. I have a tight budget of 1700.\",\n",
       " 'intent_name': 'BookFlight',\n",
       " 'entity_labels': [{'entity_name': 'dst_city',\n",
       "   'start_char_index': 27,\n",
       "   'end_char_index': 35},\n",
       "  {'entity_name': 'or_city', 'start_char_index': 41, 'end_char_index': 48},\n",
       "  {'entity_name': 'str_date', 'start_char_index': 52, 'end_char_index': 77},\n",
       "  {'entity_name': 'budget', 'start_char_index': 117, 'end_char_index': 121}]}"
      ]
     },
     "execution_count": 38,
     "metadata": {},
     "output_type": "execute_result"
    }
   ],
   "source": [
    "utt = extractor.utterances[0]\n",
    "utt"
   ]
  },
  {
   "cell_type": "code",
   "execution_count": 39,
   "id": "2f2f531d",
   "metadata": {},
   "outputs": [
    {
     "data": {
      "text/plain": [
       "{'dst_city': 'Atlantis',\n",
       " 'or_city': 'Caprica',\n",
       " 'str_date': 'Saturday, August 13, 2016',\n",
       " 'budget': '1700'}"
      ]
     },
     "execution_count": 39,
     "metadata": {},
     "output_type": "execute_result"
    }
   ],
   "source": [
    "y_true = {entity['entity_name']: utt['text'][entity['start_char_index']:entity['end_char_index']]\n",
    "                for entity in utt['entity_labels']}\n",
    "y_true"
   ]
  },
  {
   "attachments": {},
   "cell_type": "markdown",
   "id": "8c57740e",
   "metadata": {},
   "source": [
    "Having the tru labels we will use them to make comparisons to the predicted labels using the LUIS application."
   ]
  },
  {
   "cell_type": "code",
   "execution_count": 40,
   "id": "68a09e47",
   "metadata": {},
   "outputs": [],
   "source": [
    "from sklearn.model_selection import train_test_split\n",
    "train_data, test_data = train_test_split(extractor.utterances, test_size=0.2, shuffle=True, random_state=3)"
   ]
  },
  {
   "cell_type": "code",
   "execution_count": 41,
   "id": "e5a65c55",
   "metadata": {},
   "outputs": [
    {
     "data": {
      "text/plain": [
       "3500"
      ]
     },
     "execution_count": 41,
     "metadata": {},
     "output_type": "execute_result"
    }
   ],
   "source": [
    "len(train_data)"
   ]
  },
  {
   "cell_type": "code",
   "execution_count": 42,
   "id": "1daa6051",
   "metadata": {},
   "outputs": [
    {
     "data": {
      "text/plain": [
       "876"
      ]
     },
     "execution_count": 42,
     "metadata": {},
     "output_type": "execute_result"
    }
   ],
   "source": [
    "len(test_data)"
   ]
  },
  {
   "cell_type": "code",
   "execution_count": 16,
   "id": "40f59a71",
   "metadata": {},
   "outputs": [
    {
     "name": "stdout",
     "output_type": "stream",
     "text": [
      "Train data exists\n",
      "Data loaded successfully\n",
      "Test data exists\n",
      "Data loaded successfully\n"
     ]
    }
   ],
   "source": [
    "import pickle\n",
    "import os\n",
    "\n",
    "def write_data(filename, data):\n",
    "    \"\"\"\n",
    "        writing a file .pkl that contains the some data\n",
    "    \"\"\"\n",
    "    # verify if the file does not exist\n",
    "    if not os.path.isfile(filename):\n",
    "        with open(filename, \"wb\") as f:\n",
    "            pickle.dump(data, f, protocol=pickle.HIGHEST_PROTOCOL)\n",
    "            print(f\"Object saved to {filename} successfully.\")\n",
    "    else:\n",
    "        print(f\"File {filename} already exists. Delete it or choose another file name.\")\n",
    "\n",
    "def load_data(filename):\n",
    "    if os.path.exists(filename):\n",
    "        with open(filename, \"rb\") as f:\n",
    "            data = pickle.load(f)\n",
    "        print(\"Data loaded successfully\")\n",
    "    else:\n",
    "        data = None\n",
    "        print(\"File does not exist\")\n",
    "    return data\n",
    "\n",
    "\n",
    "\n",
    "train_file_name = 'data/processed/train.pkl'\n",
    "test_file_name = 'data/processed/test.pkl'\n",
    "\n",
    "if not os.path.isfile(train_file_name):\n",
    "    # verify if the file does not exist\n",
    "    write_data(train_file_name, train_data)\n",
    "else:\n",
    "    print('Train data exists')\n",
    "    train_data = load_data(train_file_name)\n",
    "\n",
    "if not os.path.isfile(test_file_name):\n",
    "    # verify if the file does not exist\n",
    "    write_data(test_file_name, test_data)\n",
    "else:\n",
    "    print('Test data exists')\n",
    "    test_data = load_data(test_file_name)\n",
    "\n"
   ]
  },
  {
   "cell_type": "markdown",
   "id": "0120c41f-8f2f-4b35-8de9-f4b224966f20",
   "metadata": {
    "tags": []
   },
   "source": [
    "# LUIS\n",
    "## Creating the application"
   ]
  },
  {
   "cell_type": "code",
   "execution_count": 62,
   "id": "163e63f4-b324-47e8-a0c7-a2b634a94821",
   "metadata": {},
   "outputs": [],
   "source": [
    "NEW_APP = False"
   ]
  },
  {
   "cell_type": "code",
   "execution_count": 63,
   "id": "75fbe2e1-7454-40b9-a673-aac044ff3405",
   "metadata": {},
   "outputs": [
    {
     "data": {
      "text/plain": [
       "<module 'luis_helper' from '/Users/bartcus/Documents/GitHub/OC-projects/oc_10/luis_helper.py'>"
      ]
     },
     "execution_count": 63,
     "metadata": {},
     "output_type": "execute_result"
    }
   ],
   "source": [
    "import importlib\n",
    "import luis_helper as luis\n",
    "\n",
    "importlib.reload(luis)"
   ]
  },
  {
   "cell_type": "code",
   "execution_count": 64,
   "id": "b7658753-0492-433f-a066-60d24bdc7af9",
   "metadata": {},
   "outputs": [],
   "source": [
    "client = luis.LUISHelper()\n",
    "if NEW_APP:\n",
    "    client.create_app()\n",
    "else:\n",
    "    app_id = 'c2ad16eb-c106-438c-b487-cfc569117efe'#'60594a38-0766-456f-843f-c46bd30baa98'\n",
    "    client.load_app(app_id)"
   ]
  },
  {
   "cell_type": "code",
   "execution_count": 20,
   "id": "bf2e75a1-a7da-47e9-a206-0a1f780d3b31",
   "metadata": {},
   "outputs": [],
   "source": [
    "#if NEW_APP:\n",
    "#    prebuilt_entities = ['geographyV2', 'datetimeV2', 'number']\n",
    "#    client.add_prebuilt_entities(prebuilt_entities)"
   ]
  },
  {
   "cell_type": "code",
   "execution_count": 65,
   "id": "8ec4feed-f59f-4fe0-8574-2714f5614d1c",
   "metadata": {},
   "outputs": [],
   "source": [
    "if NEW_APP:\n",
    "    client.add_entities_and_features()"
   ]
  },
  {
   "cell_type": "code",
   "execution_count": 66,
   "id": "dea4e8b1-96ac-4e6a-bf2a-39ba6c09675b",
   "metadata": {},
   "outputs": [],
   "source": [
    "# Create intent into the model\n",
    "if NEW_APP:\n",
    "    intent_name = \"BookFlight\"\n",
    "\n",
    "    client.add_intent(intent_name)"
   ]
  },
  {
   "cell_type": "code",
   "execution_count": 67,
   "id": "d4a2d0bd",
   "metadata": {},
   "outputs": [
    {
     "data": {
      "text/plain": [
       "876"
      ]
     },
     "execution_count": 67,
     "metadata": {},
     "output_type": "execute_result"
    }
   ],
   "source": [
    "NEW_APP=False\n",
    "len(test_data)"
   ]
  },
  {
   "cell_type": "code",
   "execution_count": 68,
   "id": "6d91d2c0-70e6-4488-b5b1-5a54bcd0997e",
   "metadata": {},
   "outputs": [],
   "source": [
    "if NEW_APP:\n",
    "    train_file_name = 'data/processed/train.pkl'\n",
    "    test_file_name = 'data/processed/test.pkl'\n",
    "\n",
    "    if not os.path.isfile(train_file_name):\n",
    "        # verify if the file does not exist\n",
    "        write_data(train_file_name, train_data)\n",
    "    else:\n",
    "        print('Train data exists')\n",
    "        train_data = load_data(train_file_name)\n",
    "\n",
    "    if not os.path.isfile(test_file_name):\n",
    "        # verify if the file does not exist\n",
    "        write_data(test_file_name, test_data)\n",
    "    else:\n",
    "        print('Test data exists')\n",
    "        test_data = load_data(test_file_name)"
   ]
  },
  {
   "cell_type": "code",
   "execution_count": 69,
   "id": "0a7ebe6b-4fb7-48b5-8da0-97a21841be74",
   "metadata": {},
   "outputs": [],
   "source": [
    "if NEW_APP:\n",
    "    client.add_utterace(train_data)"
   ]
  },
  {
   "cell_type": "markdown",
   "id": "8fffcdb4-3778-40e4-acdc-bfadc1a261e4",
   "metadata": {},
   "source": [
    "## Training"
   ]
  },
  {
   "cell_type": "code",
   "execution_count": 70,
   "id": "5945e1ce-013c-437d-826f-678db515368c",
   "metadata": {},
   "outputs": [],
   "source": [
    "if NEW_APP:\n",
    "    client.train_app()"
   ]
  },
  {
   "cell_type": "markdown",
   "id": "6360c93b-a133-40a6-bc9f-9a2d43363fdd",
   "metadata": {},
   "source": [
    "## Publishing"
   ]
  },
  {
   "cell_type": "code",
   "execution_count": 36,
   "id": "fc43dc5d-b1fd-4c93-b3cc-eeb6f391476e",
   "metadata": {},
   "outputs": [
    {
     "name": "stdout",
     "output_type": "stream",
     "text": [
      "Start publishing the app...\n",
      "The app is published.\n"
     ]
    }
   ],
   "source": [
    "if NEW_APP:\n",
    "    client.publish_app()"
   ]
  },
  {
   "cell_type": "markdown",
   "id": "1377e06d-e6c2-4d13-90ef-c109ffab8c31",
   "metadata": {},
   "source": [
    "## Testing if everithing works"
   ]
  },
  {
   "cell_type": "code",
   "execution_count": 1,
   "id": "a504e6e6-7dbe-4e11-aae0-5aa7a113b885",
   "metadata": {},
   "outputs": [],
   "source": [
    "#client.test('I would like to book a flight from Lyon to Paris tomorrow at 11pm with a budget of 100 euros')"
   ]
  },
  {
   "cell_type": "code",
   "execution_count": 72,
   "id": "2290fb7c",
   "metadata": {},
   "outputs": [],
   "source": [
    "r = client.get_clientRuntime().prediction.resolve(app_id, 'Book me a flight from Paris to London on 2023 10 january with a return date 11-03-2023 and a budget of 500 euros')"
   ]
  },
  {
   "cell_type": "code",
   "execution_count": 73,
   "id": "d58b7989",
   "metadata": {},
   "outputs": [
    {
     "data": {
      "text/plain": [
       "'BookFlight'"
      ]
     },
     "execution_count": 73,
     "metadata": {},
     "output_type": "execute_result"
    }
   ],
   "source": [
    "r.top_scoring_intent.intent"
   ]
  },
  {
   "cell_type": "code",
   "execution_count": 74,
   "id": "b91b289d",
   "metadata": {},
   "outputs": [
    {
     "name": "stdout",
     "output_type": "stream",
     "text": [
      "500 euros budget\n",
      "london dst_city\n",
      "paris or_city\n",
      "2023 10 january builtin.datetimeV2.date\n",
      "11-03-2023 builtin.datetimeV2.date\n",
      "paris builtin.geographyV2.city\n",
      "london builtin.geographyV2.city\n",
      "2023 builtin.number\n",
      "10 builtin.number\n",
      "11 builtin.number\n",
      "03 builtin.number\n",
      "2023 builtin.number\n",
      "500 builtin.number\n"
     ]
    }
   ],
   "source": [
    "for entity in r.entities:\n",
    "    print(entity.entity, entity.type)"
   ]
  },
  {
   "cell_type": "markdown",
   "id": "bf7cf738-5e2b-4b06-ace1-65c44b580780",
   "metadata": {},
   "source": [
    "## Model evaluation"
   ]
  },
  {
   "attachments": {},
   "cell_type": "markdown",
   "id": "c30ac52a",
   "metadata": {},
   "source": [
    "## How to compute the true values"
   ]
  },
  {
   "cell_type": "code",
   "execution_count": 5,
   "id": "3160d202",
   "metadata": {},
   "outputs": [],
   "source": [
    "# Getting 100 examples of test data from utterace to evaluate\n",
    "tt_utr = test_data[0:10]"
   ]
  },
  {
   "cell_type": "code",
   "execution_count": 8,
   "id": "16b39b3a",
   "metadata": {},
   "outputs": [],
   "source": [
    "def _get_entities_utterances(data: dict) -> dict:\n",
    "    \"\"\"Helper function to extract entities from LUIS response\"\"\"\n",
    "    text = data['text']\n",
    "    y_true = {entity['entity_name']: text[entity['start_char_index']:entity['end_char_index']]\n",
    "        for entity in data['entity_labels']}\n",
    "    return y_true"
   ]
  },
  {
   "cell_type": "code",
   "execution_count": 9,
   "id": "0a5f90b6",
   "metadata": {},
   "outputs": [
    {
     "data": {
      "text/plain": [
       "{'text': 'Ok I would like to go to Melbourne from Santiago Actually it can be any city\\nBut on one condition: I want to travel for free\\nMy guru told me that I could make anything happen if I dreamed hard enough and focused on making it a reality\\nSo my dream is to travel for free and you will help make it happen',\n",
       " 'intent_name': 'BookFlight',\n",
       " 'entity_labels': [{'entity_name': 'or_city',\n",
       "   'start_char_index': 25,\n",
       "   'end_char_index': 34},\n",
       "  {'entity_name': 'budget', 'start_char_index': 109, 'end_char_index': 124}]}"
      ]
     },
     "execution_count": 9,
     "metadata": {},
     "output_type": "execute_result"
    }
   ],
   "source": [
    "test_data[20]"
   ]
  },
  {
   "cell_type": "code",
   "execution_count": 16,
   "id": "8f5e1ca0",
   "metadata": {},
   "outputs": [
    {
     "data": {
      "text/plain": [
       "{'text': 'leave whenever. i should be back for September 11',\n",
       " 'intent_name': 'BookFlight',\n",
       " 'entity_labels': [{'entity_name': 'end_date',\n",
       "   'start_char_index': 37,\n",
       "   'end_char_index': 49}]}"
      ]
     },
     "execution_count": 16,
     "metadata": {},
     "output_type": "execute_result"
    }
   ],
   "source": [
    "tt_utr[2]"
   ]
  },
  {
   "cell_type": "code",
   "execution_count": 18,
   "id": "4d91ecfb",
   "metadata": {},
   "outputs": [
    {
     "data": {
      "text/plain": [
       "{'end_date': 'September 11'}"
      ]
     },
     "execution_count": 18,
     "metadata": {},
     "output_type": "execute_result"
    }
   ],
   "source": [
    "_get_entities_utterances(tt_utr[2])"
   ]
  },
  {
   "cell_type": "code",
   "execution_count": 21,
   "id": "f04224d4",
   "metadata": {},
   "outputs": [],
   "source": [
    "y_true = _get_entities_utterances(tt_utr[2])"
   ]
  },
  {
   "attachments": {},
   "cell_type": "markdown",
   "id": "691a47d4",
   "metadata": {},
   "source": [
    "## How to compute the predicted values"
   ]
  },
  {
   "cell_type": "code",
   "execution_count": 9,
   "id": "2393ab47",
   "metadata": {},
   "outputs": [],
   "source": [
    "clientRuntime = client.get_clientRuntime()\n",
    "\n",
    "request = { \"query\" : 'I would like to book a flight from Lyon to Paris tomorrow at 11pm with a budget of 100 euros' }\n",
    "\n",
    "response = clientRuntime.prediction.get_slot_prediction(app_id, slot_name=\"Production\", prediction_request=request)"
   ]
  },
  {
   "cell_type": "code",
   "execution_count": 28,
   "id": "018563e8",
   "metadata": {},
   "outputs": [
    {
     "data": {
      "text/plain": [
       "{'or_city': 'Lyon',\n",
       " 'dst_city': 'Paris',\n",
       " 'geographyV2': {'value': 'Paris', 'type': 'city'},\n",
       " 'datetimeV2': {'type': 'datetime',\n",
       "  'values': [{'timex': '2023-02-23T23',\n",
       "    'resolution': [{'value': '2023-02-23 23:00:00'}]}]},\n",
       " 'number': 100,\n",
       " 'budget': '100 euros'}"
      ]
     },
     "execution_count": 28,
     "metadata": {},
     "output_type": "execute_result"
    }
   ],
   "source": [
    "{entity_key:entity_val[0] for entity_key, entity_val in response.prediction.entities.items()}"
   ]
  },
  {
   "cell_type": "code",
   "execution_count": 19,
   "id": "ff165757",
   "metadata": {},
   "outputs": [
    {
     "data": {
      "text/plain": [
       "{'end_date': 'September 11',\n",
       " 'datetimeV2': {'type': 'date',\n",
       "  'values': [{'timex': 'XXXX-09-11',\n",
       "    'resolution': [{'value': '2022-09-11'}, {'value': '2023-09-11'}]}]},\n",
       " 'number': 11}"
      ]
     },
     "execution_count": 19,
     "metadata": {},
     "output_type": "execute_result"
    }
   ],
   "source": [
    "clientRuntime = client.get_clientRuntime()\n",
    "\n",
    "request = { \"query\" : tt_utr[2] }\n",
    "\n",
    "response = clientRuntime.prediction.get_slot_prediction(app_id, slot_name=\"Production\", prediction_request=request)\n",
    "\n",
    "{entity_key:entity_val[0] for entity_key, entity_val in response.prediction.entities.items()}"
   ]
  },
  {
   "cell_type": "code",
   "execution_count": 20,
   "id": "cbce0a84",
   "metadata": {},
   "outputs": [],
   "source": [
    "y_pred = {entity_key:entity_val[0] for entity_key, entity_val in response.prediction.entities.items()}"
   ]
  },
  {
   "cell_type": "code",
   "execution_count": 47,
   "id": "db5dc8b3",
   "metadata": {},
   "outputs": [
    {
     "data": {
      "text/plain": [
       "{'end_date': 'September 11',\n",
       " 'datetimeV2': {'type': 'date',\n",
       "  'values': [{'timex': 'XXXX-09-11',\n",
       "    'resolution': [{'value': '2022-09-11'}, {'value': '2023-09-11'}]}]},\n",
       " 'number': 11}"
      ]
     },
     "execution_count": 47,
     "metadata": {},
     "output_type": "execute_result"
    }
   ],
   "source": [
    "y_pred"
   ]
  },
  {
   "cell_type": "code",
   "execution_count": 42,
   "id": "10872ffa",
   "metadata": {},
   "outputs": [
    {
     "name": "stdout",
     "output_type": "stream",
     "text": [
      "September 11\n",
      "September 11\n",
      "{'type': 'date', 'values': [{'timex': 'XXXX-09-11', 'resolution': [{'value': '2022-09-11'}, {'value': '2023-09-11'}]}]}\n",
      "\n",
      "11\n",
      "\n"
     ]
    }
   ],
   "source": [
    "for key in y_pred.keys():\n",
    "    _pred = y_pred.get(key, \"\")\n",
    "    _true = y_true.get(key, \"\")\n",
    "    print(_pred)\n",
    "    print(_true)"
   ]
  },
  {
   "cell_type": "code",
   "execution_count": 74,
   "id": "5f7a2866",
   "metadata": {},
   "outputs": [
    {
     "data": {
      "text/plain": [
       "3500"
      ]
     },
     "execution_count": 74,
     "metadata": {},
     "output_type": "execute_result"
    }
   ],
   "source": [
    "len(train_data)"
   ]
  },
  {
   "cell_type": "code",
   "execution_count": 64,
   "id": "56a464eb",
   "metadata": {},
   "outputs": [],
   "source": [
    "# Getting 100 examples of test data from utterace to evaluate\n",
    "tt_utr = test_data[0:3]"
   ]
  },
  {
   "cell_type": "code",
   "execution_count": 91,
   "id": "022bcdbb",
   "metadata": {},
   "outputs": [
    {
     "name": "stdout",
     "output_type": "stream",
     "text": [
      "([0.0, 0.0, 0.0, 33.33333333333333, 100.0, 0.0, 0.0, 0.0, 66.66666666666666, 100.0, 100.0, 100.0, 66.66666666666666, 100.0, 0.0, 100.0, 50.0, 100.0, 50.0, 100.0, 100.0, 100.0, 100.0, 50.0, 0.0, 100.0, 50.0, 0.0, 66.66666666666666, 0.0, 50.0, 100.0, 50.0, 100.0, 100.0, 100.0, 50.0, 66.66666666666666, 100.0, 100.0, 100.0, 100.0, 100.0, 100.0, 0.0, 50.0, 100.0, 50.0, 100.0, 66.66666666666666, 0.0, 100.0, 100.0, 100.0, 0.0, 50.0, 0.0, 100.0, 0.0, 100.0, 0.0, 100.0, 100.0, 100.0, 100.0, 100.0, 50.0, 0.0, 50.0, 0.0, 100.0, 75.0, 100.0, 100.0, 50.0, 100.0, 0.0, 100.0, 0.0, 75.0, 100.0, 50.0, 100.0, 0.0, 100.0, 100.0, 100.0, 0.0, 0.0, 100.0, 0.0, 100.0, 0.0, 66.66666666666666, 100.0, 0.0, 100.0, 100.0, 33.33333333333333, 50.0, 100.0, 0.0, 0.0, 0.0, 50.0, 100.0, 0.0, 0.0, 100.0, 0.0, 100.0, 50.0, 100.0, 100.0, 100.0, 100.0, 0.0, 50.0, 100.0, 100.0, 100.0, 100.0, 100.0, 100.0, 0.0, 50.0, 100.0, 0.0, 100.0, 0.0, 100.0, 100.0, 50.0, 0.0, 66.66666666666666, 0.0, 100.0, 0.0, 100.0, 66.66666666666666, 50.0, 50.0, 100.0, 0.0, 0.0, 100.0, 100.0, 100.0, 0.0, 0.0, 0.0, 0.0, 100.0, 50.0, 0.0, 0.0, 100.0, 100.0, 0.0, 100.0, 100.0, 100.0, 50.0, 100.0, 50.0, 100.0, 0.0, 100.0, 100.0, 50.0, 100.0, 0.0, 0.0, 100.0, 0.0, 100.0, 100.0, 0.0, 50.0, 100.0, 0.0, 100.0, 0.0, 50.0, 0.0, 0.0, 100.0, 100.0, 0.0, 100.0, 50.0, 100.0, 100.0, 0.0, 0.0, 100.0, 100.0, 100.0, 100.0, 100.0, 66.66666666666666, 66.66666666666666, 66.66666666666666, 0.0, 100.0, 100.0, 100.0, 100.0, 100.0, 50.0, 100.0, 100.0, 0.0, 100.0, 0.0, 100.0, 100.0, 100.0, 100.0, 66.66666666666666, 100.0, 50.0, 100.0, 50.0, 100.0, 66.66666666666666, 100.0, 0.0, 0.0, 100.0, 0.0, 100.0, 0.0, 50.0, 100.0, 0.0, 0.0, 50.0, 100.0, 100.0, 100.0, 0.0, 50.0, 100.0, 100.0, 100.0, 100.0, 66.66666666666666, 0.0, 100.0, 0.0, 75.0, 50.0, 100.0, 100.0, 0.0, 50.0, 0.0, 100.0, 0.0, 100.0, 0.0, 0.0, 0.0, 100.0, 0.0, 0.0, 33.33333333333333, 0.0, 100.0, 100.0, 100.0, 66.66666666666666, 0.0, 100.0, 50.0, 100.0, 0.0, 100.0, 50.0, 0.0, 100.0, 50.0, 100.0, 100.0, 0.0, 50.0, 66.66666666666666, 0.0, 100.0, 0.0, 100.0, 0.0, 83.33333333333334, 100.0, 0.0, 100.0, 80.0, 0.0, 100.0, 0.0, 50.0, 100.0, 0.0, 0.0, 100.0, 100.0, 0.0, 0.0, 100.0, 100.0, 0.0, 66.66666666666666, 100.0, 100.0, 100.0, 33.33333333333333, 0.0, 100.0, 66.66666666666666, 0.0, 100.0, 66.66666666666666, 25.0, 60.0, 100.0, 50.0, 0.0, 0.0, 100.0, 0.0, 100.0, 50.0, 0.0, 100.0, 0.0, 0.0, 100.0, 0.0, 50.0, 0.0, 66.66666666666666, 100.0, 100.0, 0.0, 100.0, 100.0, 100.0, 0.0, 100.0, 50.0, 100.0, 100.0, 100.0, 100.0, 0.0, 0.0, 0.0, 0.0, 100.0, 100.0, 0.0, 100.0, 50.0, 100.0, 0.0, 100.0, 50.0, 0.0, 100.0, 100.0, 100.0, 100.0, 100.0, 50.0, 50.0, 100.0, 100.0, 100.0, 100.0, 75.0, 100.0, 50.0, 100.0, 0.0, 100.0, 100.0, 100.0, 0.0, 100.0, 100.0, 100.0, 100.0, 0.0, 66.66666666666666, 100.0, 0.0, 0.0, 100.0, 100.0, 100.0, 100.0, 75.0, 100.0, 0.0, 100.0, 50.0, 0.0, 100.0, 0.0, 100.0, 0.0, 0.0, 0.0, 100.0, 100.0, 100.0, 100.0, 0.0, 0.0, 100.0, 100.0, 100.0, 100.0, 100.0, 0.0, 100.0, 100.0, 100.0, 0.0, 50.0, 100.0, 50.0, 100.0, 0.0, 100.0, 100.0, 0.0, 100.0, 100.0, 100.0, 0.0, 100.0, 100.0, 100.0, 100.0, 100.0, 0.0, 100.0, 50.0, 100.0, 50.0, 0.0, 50.0, 0.0, 0.0, 50.0, 100.0, 100.0, 50.0, 100.0, 100.0, 100.0, 100.0, 100.0, 0.0, 0.0, 100.0, 0.0, 100.0, 100.0, 100.0, 100.0, 100.0, 100.0, 0.0, 100.0, 0.0, 0.0, 100.0, 100.0, 100.0, 100.0, 100.0, 100.0, 100.0, 100.0, 50.0, 0.0, 33.33333333333333, 50.0, 100.0, 50.0, 50.0, 100.0, 0.0, 100.0, 0.0, 100.0, 100.0, 0.0, 33.33333333333333, 100.0, 100.0, 100.0, 75.0, 0.0, 100.0, 100.0, 100.0, 50.0, 100.0, 0.0, 100.0, 0.0, 0.0, 100.0, 0.0, 100.0, 0.0, 50.0, 0.0, 50.0, 100.0, 0.0, 0.0, 0.0, 33.33333333333333, 100.0, 100.0, 50.0, 100.0, 50.0, 100.0, 100.0, 100.0, 0.0, 100.0, 100.0, 100.0, 100.0, 66.66666666666666, 0.0, 0.0, 0.0, 0.0, 0.0, 50.0, 100.0, 0.0, 100.0, 100.0, 0.0, 80.0, 100.0, 0.0, 0.0, 100.0, 33.33333333333333, 100.0, 66.66666666666666, 100.0, 100.0, 100.0, 100.0, 100.0, 100.0, 0.0, 50.0, 50.0, 0.0, 0.0, 100.0, 100.0, 100.0, 100.0, 100.0, 50.0, 100.0, 100.0, 50.0, 50.0, 50.0, 0.0, 100.0, 100.0, 0.0, 0.0, 0.0, 66.66666666666666, 100.0, 100.0, 75.0, 100.0, 0.0, 66.66666666666666, 100.0, 100.0, 100.0, 0.0, 0.0, 100.0, 100.0, 0.0, 100.0, 0.0, 0.0, 0.0, 66.66666666666666, 0.0, 0.0, 0.0, 0.0, 100.0, 100.0, 100.0, 0.0, 50.0, 100.0, 100.0, 100.0, 0.0, 100.0, 100.0, 100.0, 100.0, 0.0, 0.0, 0.0, 100.0, 100.0, 100.0, 0.0, 100.0, 100.0, 100.0, 100.0, 0.0, 50.0, 0.0, 50.0, 0.0, 0.0, 0.0, 100.0, 0.0, 100.0, 100.0, 50.0, 0.0, 0.0, 100.0, 100.0, 0.0, 50.0, 50.0, 0.0, 0.0, 50.0, 0.0, 100.0, 0.0, 0.0, 0.0, 0.0, 0.0, 0.0, 100.0, 100.0, 100.0, 50.0, 100.0, 100.0, 0.0, 0.0, 50.0, 50.0, 100.0, 100.0, 0.0, 100.0, 100.0, 0.0, 100.0, 60.0, 100.0, 50.0, 100.0, 0.0, 33.33333333333333, 100.0, 66.66666666666666, 100.0, 0.0, 50.0, 100.0, 0.0, 0.0, 100.0, 100.0, 50.0, 0.0, 100.0, 0.0, 50.0, 100.0, 100.0, 100.0, 0.0, 0.0, 100.0, 0.0, 0.0, 100.0, 0.0, 75.0, 66.66666666666666, 100.0, 0.0, 50.0, 100.0, 100.0, 100.0, 0.0, 50.0, 100.0, 100.0, 100.0, 100.0, 100.0, 66.66666666666666, 0.0, 100.0, 0.0, 100.0, 66.66666666666666, 100.0, 0.0, 100.0, 0.0, 100.0, 0.0, 0.0, 100.0, 100.0, 100.0, 100.0, 100.0, 100.0, 50.0, 50.0, 0.0, 75.0, 25.0, 100.0, 80.0, 100.0, 0.0, 50.0, 0.0, 100.0, 100.0, 0.0, 0.0, 0.0, 100.0, 0.0, 50.0, 0.0, 100.0, 100.0, 100.0, 66.66666666666666, 100.0, 100.0, 0.0, 0.0, 0.0, 50.0, 50.0, 0.0, 100.0, 100.0, 100.0, 0.0, 0.0, 100.0, 50.0, 0.0, 0.0, 0.0, 100.0, 100.0, 100.0, 100.0, 0.0, 100.0, 100.0, 0.0, 100.0, 100.0, 100.0, 50.0, 0.0, 0.0, 100.0, 50.0, 0.0, 0.0, 100.0, 0.0, 100.0, 0.0, 0.0, 0.0, 100.0, 100.0, 0.0, 50.0, 100.0, 0.0, 100.0, 100.0, 100.0, 100.0, 0.0, 0.0, 100.0, 100.0, 100.0, 0.0, 100.0, 50.0, 100.0, 100.0, 50.0, 0.0, 0.0, 100.0, 0.0, 100.0, 0.0, 0.0, 100.0, 0.0, 100.0, 100.0, 0.0, 50.0, 100.0, 50.0, 100.0, 100.0, 100.0, 100.0, 0.0, 66.66666666666666, 50.0, 0.0, 0.0, 100.0, 0.0, 33.33333333333333, 100.0, 100.0, 100.0, 100.0, 100.0, 100.0, 100.0, 100.0, 100.0, 0.0, 100.0, 75.0, 0.0], 59.714611872146094)\n"
     ]
    }
   ],
   "source": [
    "# Initialize the LuisEvaluation class\n",
    "evaluator = luis.LUISEvaluation(client, app_id)\n",
    "\n",
    "# Evaluate the LUIS model and get the evaluation report\n",
    "report = evaluator.evaluate(test_data)\n",
    "\n",
    "# Print the evaluation report\n",
    "print(report)"
   ]
  },
  {
   "cell_type": "code",
   "execution_count": 110,
   "id": "207db0bb",
   "metadata": {},
   "outputs": [
    {
     "data": {
      "image/png": "[encoded data removed]",
      "text/plain": [
       "<Figure size 640x480 with 1 Axes>"
      ]
     },
     "metadata": {},
     "output_type": "display_data"
    }
   ],
   "source": [
    "plt.barh(range(0, len(report[0])), report[0]/(np.ones(876)*100))\n",
    "plt.xlabel('id utterance')\n",
    "plt.ylabel(\"Values\")\n",
    "plt.title('Categories Bar Plot')\n",
    "plt.show()"
   ]
  },
  {
   "attachments": {},
   "cell_type": "markdown",
   "id": "68eaa59e",
   "metadata": {},
   "source": [
    "Based on the test data, we obtain a precision of 59.71% between the predicted model and the real liberalization of the original data. As shown in Figure 3, each utterance has been evaluated. Several utterances were evaluated as having 100% precision. Many of them predict nothing, while others have a middle level of precision. We can examine these three types of utterances by observing them.\n"
   ]
  },
  {
   "attachments": {},
   "cell_type": "markdown",
   "id": "f8f99bac",
   "metadata": {},
   "source": [
    "0% evaluated prediction"
   ]
  },
  {
   "cell_type": "code",
   "execution_count": 111,
   "id": "00143bc7",
   "metadata": {},
   "outputs": [
    {
     "data": {
      "text/plain": [
       "{'text': 'how about if I leave from Beijing?',\n",
       " 'intent_name': 'BookFlight',\n",
       " 'entity_labels': [{'entity_name': 'or_city',\n",
       "   'start_char_index': 26,\n",
       "   'end_char_index': 33}]}"
      ]
     },
     "execution_count": 111,
     "metadata": {},
     "output_type": "execute_result"
    }
   ],
   "source": [
    "test_data[0]"
   ]
  },
  {
   "cell_type": "code",
   "execution_count": 112,
   "id": "026268eb",
   "metadata": {},
   "outputs": [
    {
     "data": {
      "text/plain": [
       "{'geographyV2': {'value': 'Beijing', 'type': 'city'}, 'or_city': 'Beijing?'}"
      ]
     },
     "execution_count": 112,
     "metadata": {},
     "output_type": "execute_result"
    }
   ],
   "source": [
    "evaluator.y_pred[0]"
   ]
  },
  {
   "cell_type": "code",
   "execution_count": 113,
   "id": "af2f5089",
   "metadata": {},
   "outputs": [
    {
     "data": {
      "text/plain": [
       "{'or_city': 'Beijing'}"
      ]
     },
     "execution_count": 113,
     "metadata": {},
     "output_type": "execute_result"
    }
   ],
   "source": [
    "evaluator.y_true[0]"
   ]
  },
  {
   "attachments": {},
   "cell_type": "markdown",
   "id": "0dc3b5d4",
   "metadata": {},
   "source": [
    "100% evaluated prediction"
   ]
  },
  {
   "cell_type": "code",
   "execution_count": 117,
   "id": "b21e3ed2",
   "metadata": {},
   "outputs": [
    {
     "data": {
      "text/plain": [
       "{'text': 'Can anything help resurrect my career at this point??? Is there any sadder rung in society than that of the failed writer\\nOk you know what, maybe you can help\\nGet me to Campinas to San Juan please\\nMe, my wife, and my son',\n",
       " 'intent_name': 'BookFlight',\n",
       " 'entity_labels': [{'entity_name': 'or_city',\n",
       "   'start_char_index': 169,\n",
       "   'end_char_index': 177},\n",
       "  {'entity_name': 'dst_city', 'start_char_index': 181, 'end_char_index': 189}]}"
      ]
     },
     "execution_count": 117,
     "metadata": {},
     "output_type": "execute_result"
    }
   ],
   "source": [
    "test_data[4]"
   ]
  },
  {
   "cell_type": "code",
   "execution_count": 118,
   "id": "67090630",
   "metadata": {},
   "outputs": [
    {
     "data": {
      "text/plain": [
       "{'or_city': 'Campinas',\n",
       " 'geographyV2': {'value': 'Campinas', 'type': 'city'},\n",
       " 'dst_city': 'San Juan'}"
      ]
     },
     "execution_count": 118,
     "metadata": {},
     "output_type": "execute_result"
    }
   ],
   "source": [
    "evaluator.y_pred[4]"
   ]
  },
  {
   "cell_type": "code",
   "execution_count": 119,
   "id": "86de7bde",
   "metadata": {},
   "outputs": [
    {
     "data": {
      "text/plain": [
       "{'or_city': 'Campinas', 'dst_city': 'San Juan'}"
      ]
     },
     "execution_count": 119,
     "metadata": {},
     "output_type": "execute_result"
    }
   ],
   "source": [
    "evaluator.y_true[4]"
   ]
  },
  {
   "attachments": {},
   "cell_type": "markdown",
   "id": "d10e9e18",
   "metadata": {},
   "source": [
    "66.66% evaluated prediction"
   ]
  },
  {
   "cell_type": "code",
   "execution_count": 121,
   "id": "6fdc4017",
   "metadata": {},
   "outputs": [
    {
     "data": {
      "text/plain": [
       "{'text': 'Can I take my wife and son from Madrid to Santos for 4800??',\n",
       " 'intent_name': 'BookFlight',\n",
       " 'entity_labels': [{'entity_name': 'or_city',\n",
       "   'start_char_index': 32,\n",
       "   'end_char_index': 38},\n",
       "  {'entity_name': 'dst_city', 'start_char_index': 42, 'end_char_index': 48},\n",
       "  {'entity_name': 'budget', 'start_char_index': 53, 'end_char_index': 57}]}"
      ]
     },
     "execution_count": 121,
     "metadata": {},
     "output_type": "execute_result"
    }
   ],
   "source": [
    "test_data[8]"
   ]
  },
  {
   "cell_type": "code",
   "execution_count": 122,
   "id": "74e98481",
   "metadata": {},
   "outputs": [
    {
     "data": {
      "text/plain": [
       "{'or_city': 'Madrid',\n",
       " 'dst_city': 'Santos',\n",
       " 'geographyV2': {'value': 'Santos', 'type': 'city'},\n",
       " 'number': 4800,\n",
       " 'budget': '4800??'}"
      ]
     },
     "execution_count": 122,
     "metadata": {},
     "output_type": "execute_result"
    }
   ],
   "source": [
    "evaluator.y_pred[8]"
   ]
  },
  {
   "cell_type": "code",
   "execution_count": 123,
   "id": "eb446822",
   "metadata": {},
   "outputs": [
    {
     "data": {
      "text/plain": [
       "{'or_city': 'Madrid', 'dst_city': 'Santos', 'budget': '4800'}"
      ]
     },
     "execution_count": 123,
     "metadata": {},
     "output_type": "execute_result"
    }
   ],
   "source": [
    "evaluator.y_true[8]"
   ]
  },
  {
   "cell_type": "code",
   "execution_count": null,
   "id": "8ca589c5",
   "metadata": {},
   "outputs": [],
   "source": []
  }
 ],
 "metadata": {
  "kernelspec": {
   "display_name": "oc10",
   "language": "python",
   "name": "python3"
  },
  "language_info": {
   "codemirror_mode": {
    "name": "ipython",
    "version": 3
   },
   "file_extension": ".py",
   "mimetype": "text/x-python",
   "name": "python",
   "nbconvert_exporter": "python",
   "pygments_lexer": "ipython3",
   "version": "3.9.16"
  },
  "vscode": {
   "interpreter": {
    "hash": "681a568e3268dd4616791ad4e62bb3a80fa782088f56022a9e08340be80ad071"
   }
  }
 },
 "nbformat": 4,
 "nbformat_minor": 5
}
